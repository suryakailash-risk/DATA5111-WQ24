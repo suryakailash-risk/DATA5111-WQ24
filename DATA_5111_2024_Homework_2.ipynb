{
  "nbformat": 4,
  "nbformat_minor": 0,
  "metadata": {
    "colab": {
      "provenance": [],
      "include_colab_link": true
    },
    "kernelspec": {
      "name": "python3",
      "display_name": "Python 3"
    },
    "language_info": {
      "name": "python"
    }
  },
  "cells": [
    {
      "cell_type": "markdown",
      "metadata": {
        "id": "view-in-github",
        "colab_type": "text"
      },
      "source": [
        "<a href=\"https://colab.research.google.com/github/suryakailash-risk/DATA5111-WQ24/blob/main/DATA_5111_2024_Homework_2.ipynb\" target=\"_parent\"><img src=\"https://colab.research.google.com/assets/colab-badge.svg\" alt=\"Open In Colab\"/></a>"
      ]
    },
    {
      "cell_type": "markdown",
      "metadata": {
        "id": "ytBfc7NaNAlz"
      },
      "source": [
        "## Instructions"
      ]
    },
    {
      "cell_type": "markdown",
      "metadata": {
        "id": "FDw0hafvNDdv"
      },
      "source": [
        "**Purpose**\n",
        "The purpose of this assignment is to demonstrate your understanding of probability rules related to conditional probability and independence and how to use simulation in Python to solve probability problems.\n",
        "\n",
        "**Task**\n",
        "The notebook contains a series of questions and tasks that you will answer probability rules, simulation, or both. Each problem will specify the required method(s) of solution.\n",
        "\n",
        "You will insert text and code cells to answer each question. The number of text and code cells you include for each question will depend on the question and how you answer it; there is no required number of cells, but you *must* include text to describe your answers.\n",
        "\n",
        "I will use `Restart and run all` to run your code. Therefore, you should not include code that does not work in the middle of the notebook. If you are unable to answer a question and want to show your attempted solution, include the non-working code at the end of the notebook.\n",
        "\n",
        "**Criteria**\n",
        "\n",
        "The problems will be graded for both accuracy and clarity of the presentation.\n",
        "A solution will receive full credit only when:\n",
        "1. The solution is correct.\n",
        "2. Text is included to describe the work.\n",
        "3. Answers are given first in terms of probabilities of events before using numerical values.\n",
        "4. All steps in the problem solving process are shown and probability rules used are justified.\n",
        "5. If code is used, the code is clearly understandable through appropriate variable names and comments.\n",
        "\n"
      ]
    },
    {
      "cell_type": "markdown",
      "metadata": {
        "id": "TSWiqMquQvnT"
      },
      "source": [
        "## Import libraries"
      ]
    },
    {
      "cell_type": "code",
      "metadata": {
        "id": "M_su0xC9M25j"
      },
      "source": [
        "#You might import additional libraries as necessary\n",
        "import numpy as np\n",
        "import matplotlib.pyplot as plt"
      ],
      "execution_count": null,
      "outputs": []
    },
    {
      "cell_type": "markdown",
      "source": [
        "### **1** 10 points"
      ],
      "metadata": {
        "id": "Pu5y26D711NI"
      }
    },
    {
      "cell_type": "markdown",
      "source": [
        "In a few months, “The Batman” will be released to theatres in both 2D and 3D. I do not like watching movies in 3D (both because the 3D glasses don’t fit over my glasses very well, and because I’m a grumpy old man who hates change). Suppose that in the Seattle area, if a movie theatre is showing “The Batman”, there is a 25% chance that it will be showing it in 2D. Also assume that each theatre’s decision of whether or not to show it in 2D is independent of every other theatre’s decision.\n",
        "\n",
        "What is the probability that at least one theatre out of the 8 will show it in 2D?\n",
        "\n",
        "Solve the problem using probability rules (not simulation)."
      ],
      "metadata": {
        "id": "kDQfgplnUbti"
      }
    },
    {
      "cell_type": "markdown",
      "source": [
        "### Solution"
      ],
      "metadata": {
        "id": "vQptMETCX7Dz"
      }
    },
    {
      "cell_type": "markdown",
      "source": [
        "The problem can be solved using the concept of complementary probability. The probability of at least one success is equal to one minus the probability of no successes.\n",
        "\n",
        "Given that the probability of a theatre showing the movie in 2D is 0.25 (25%)\n",
        "\n",
        "The probability of a theatre not showing the movie in 2D is 1 - 0.25 = 0.75 (75%).\n",
        "\n",
        "The probability that none of the 8 theatres show the movie in 2D is $(0.75)^8$.\n",
        "\n",
        "Therefore, the probability that at least one out of the 8 theatres will show the movie in 2D is $1 - (0.75)^8$.\n",
        "\n",
        "Let's calculate this:\n",
        "\n",
        "$$\n",
        "P(\\text{{at least one 2D}}) = 1 - (0.75)^8 \\approx 0.847\n",
        "$$\n",
        "\n",
        "So, there is approximately an 84.7% chance that at least one theatre out of the 8 will show \"The Batman\" in 2D.\n",
        "\n"
      ],
      "metadata": {
        "id": "O_kWP6y_b953"
      }
    },
    {
      "cell_type": "markdown",
      "source": [
        "### **2** 20 points, 10 each."
      ],
      "metadata": {
        "id": "erJYeMpbVw0u"
      }
    },
    {
      "cell_type": "markdown",
      "source": [
        "Suppose that 1% of the population in Seattle is infected with the disease malignalitaloptereosis. We have developed a test for the disease, and we know from experiments that if a person is infected with malignalitaloptereosis, there is a 98% chance of them receiving a positive test. We also know that if they are not infected, there is a 3% chance of them receiving a positive test.\n",
        "\n",
        "If a random person just got tested for malignalitaloptereosis, and their test came back positive, what is the probability that they actually have the disease?\n",
        "\n",
        "Solve the problem first using probability rules and then using simulation."
      ],
      "metadata": {
        "id": "UfCBRjOTVdXA"
      }
    },
    {
      "cell_type": "markdown",
      "source": [
        "### Solution"
      ],
      "metadata": {
        "id": "waa2OvdLZyIU"
      }
    },
    {
      "cell_type": "markdown",
      "source": [
        "Using probability rules"
      ],
      "metadata": {
        "id": "WIDolF5Cbiar"
      }
    },
    {
      "cell_type": "markdown",
      "source": [
        "This is a classic problem of conditional probability that can be solved using Bayes' theorem.\n",
        "\n",
        "Given:\n",
        "- P(D) = Probability of having the disease = 0.01\n",
        "- P(D') = Probability of not having the disease = 1 - P(D) = 0.99\n",
        "- P(T|D) = Probability of testing positive given the disease = 0.98\n",
        "- P(T|D') = Probability of testing positive given no disease = 0.03\n",
        "\n",
        "We want to find P(D|T), the probability of having the disease given a positive test result.\n",
        "\n",
        "By Bayes' theorem, we have:\n",
        "\n",
        "$$\n",
        "P(D|T) = \\frac{P(T|D) \\cdot P(D)}{P(T|D) \\cdot P(D) + P(T|D') \\cdot P(D')}\n",
        "$$\n",
        "\n",
        "Substituting the given values:\n",
        "\n",
        "$$\n",
        "P(D|T) = \\frac{0.98 \\cdot 0.01}{0.98 \\cdot 0.01 + 0.03 \\cdot 0.99} \\approx 0.248\n",
        "$$\n",
        "\n",
        "So, the probability that a person with a positive test result actually has malignalitaloptereosis is approximately 0.248 or 24.8%.\n"
      ],
      "metadata": {
        "id": "DtJALgI7e7wc"
      }
    },
    {
      "cell_type": "markdown",
      "metadata": {
        "id": "kXoWgKsqiAux"
      },
      "source": [
        "###### Simulation"
      ]
    },
    {
      "cell_type": "code",
      "source": [
        "# Define the probabilities\n",
        "p_disease = 0.01  # P(Disease)\n",
        "p_no_disease = 1 - p_disease  # P(No Disease)\n",
        "p_pos_given_disease = 0.98  # P(Pos | Disease)\n",
        "p_pos_given_no_disease = 0.03  # P(Pos | No Disease)\n",
        "\n",
        "# Apply Bayes' theorem\n",
        "p_disease_given_pos = (p_pos_given_disease * p_disease) / ((p_pos_given_disease * p_disease) + (p_pos_given_no_disease * p_no_disease))\n",
        "\n",
        "print(f\"The probability that the person has the disease given a positive test result is {p_disease_given_pos}\")\n"
      ],
      "metadata": {
        "colab": {
          "base_uri": "https://localhost:8080/"
        },
        "id": "Ro7BRMk0dwRe",
        "outputId": "aeb3e1d8-1dd3-4299-b3d5-25c24f10ec4a"
      },
      "execution_count": 7,
      "outputs": [
        {
          "output_type": "execute_result",
          "data": {
            "text/plain": [
              "0.24810126582278486"
            ]
          },
          "metadata": {},
          "execution_count": 7
        }
      ]
    },
    {
      "cell_type": "code",
      "source": [
        "import numpy as np\n",
        "\n",
        "# Number of simulations\n",
        "n = 1000000\n",
        "\n",
        "# Simulate whether each individual has the disease\n",
        "has_disease = np.random.choice([True, False], size=n, p=[p_disease, p_no_disease])\n",
        "\n",
        "# Simulate test results for each individual\n",
        "test_positive = np.where(has_disease, np.random.choice([True, False], size=n, p=[p_pos_given_disease, 1-p_pos_given_disease]),\n",
        "                         np.random.choice([True, False], size=n, p=[p_pos_given_no_disease, 1-p_pos_given_no_disease]))\n",
        "\n",
        "# Calculate the empirical probability\n",
        "p_disease_given_pos_sim = np.mean(has_disease[test_positive])\n",
        "\n",
        "print(f\"The simulated probability that the person has the disease given a positive test result is {p_disease_given_pos_sim}\")\n"
      ],
      "metadata": {
        "id": "tIftLWwmcmkf",
        "colab": {
          "base_uri": "https://localhost:8080/"
        },
        "outputId": "05536716-1abf-4802-9ce3-f421da46e27e"
      },
      "execution_count": 3,
      "outputs": [
        {
          "output_type": "stream",
          "name": "stdout",
          "text": [
            "The simulated probability that the person has the disease given a positive test result is 0.24728089433971787\n"
          ]
        }
      ]
    },
    {
      "cell_type": "markdown",
      "source": [],
      "metadata": {
        "id": "Un5lewgbcl2v"
      }
    },
    {
      "cell_type": "markdown",
      "source": [
        "### **3** 20 points, 10 each."
      ],
      "metadata": {
        "id": "08LO2Ow4V4fK"
      }
    },
    {
      "cell_type": "markdown",
      "source": [
        "Suppose we have a second test that is conditionally independent of the first test, given the disease status of the individual. With this second test, if a person is infected with malignalitaloptereosis, there is a 95% chance of them receiving a positive test. If they are not infected, there is a 4% chance of them receiving a positive test.\n",
        "\n",
        "If a random person got a positive result from both the first and the second tests, what is the probability that they actually have the disease?\n",
        "\n",
        "Solve the problem first using probability rules and then simulation.\n",
        "\n",
        "Note that events $A$ and $B$ are conditionally independent given an event $C$ means $P(A \\cap B|C) = P(A|C)P(B|C)$."
      ],
      "metadata": {
        "id": "NW_5ivygVnt4"
      }
    },
    {
      "cell_type": "markdown",
      "source": [
        "### Solution"
      ],
      "metadata": {
        "id": "5OMRFAsWboV5"
      }
    },
    {
      "cell_type": "markdown",
      "source": [
        "Using probability rules"
      ],
      "metadata": {
        "id": "uVtPswkCbnRS"
      }
    },
    {
      "cell_type": "markdown",
      "source": [
        "To solve this problem, let's denote:\n",
        "- \\(D\\) as the event of having the disease.\n",
        "- \\(D'\\) as the event of not having the disease.\n",
        "- \\(T_1\\) as the event of testing positive on the first test.\n",
        "- \\(T_2\\) as the event of testing positive on the second test.\n",
        "\n",
        "From the previous context, we have the following probabilities:\n",
        "- \\(P(T_1|D) = 0.95\\), the probability of testing positive on the first test given that the person has the disease.\n",
        "- \\(P(T_1|D') = 0.01\\), the probability of testing positive on the first test given that the person does not have the disease (assumed from common scenarios of such tests).\n",
        "- \\(P(T_2|D) = 0.95\\), the probability of testing positive on the second test given that the person has the disease.\n",
        "- \\(P(T_2|D') = 0.04\\), the probability of testing positive on the second test given that the person does not have the disease.\n",
        "- \\(P(D) = p\\), the prior probability of having the disease, which we don't have. We'll assume a general prevalence rate or you can specify one.\n",
        "- \\(P(D') = 1 - P(D)\\), the probability of not having the disease.\n",
        "\n",
        "Given that \\(T_1\\) and \\(T_2\\) are conditionally independent given \\(D\\), we can use Bayes' theorem and the rule of conditional independence to find the probability of having the disease given positive results on both tests, \\(P(D|T_1 \\cap T_2)\\).\n",
        "\n",
        "First, let's express \\(P(T_1 \\cap T_2|D)\\) and \\(P(T_1 \\cap T_2|D')\\), using the rule of conditional independence:\n",
        "\n",
        "- \\(P(T_1 \\cap T_2|D) = P(T_1|D)P(T_2|D)\\)\n",
        "- \\(P(T_1 \\cap T_2|D') = P(T_1|D')P(T_2|D')\\)\n",
        "\n",
        "Then, apply Bayes' theorem to find \\(P(D|T_1 \\cap T_2)\\):\n",
        "\n",
        "\\[P(D|T_1 \\cap T_2) = \\frac{P(T_1 \\cap T_2|D)P(D)}{P(T_1 \\cap T_2|D)P(D) + P(T_1 \\cap T_2|D')P(D')}\\]\n",
        "\n",
        "Let's assume a general prevalence rate for \\(P(D)\\) as \\(p\\). If you have a specific prevalence rate in mind, please let me know. Otherwise, we'll assume a prevalence rate of 0.01 (1%) for the calculation, a common assumption for rare diseases.\n",
        "\n",
        "Using the probability rules and assuming a prevalence rate of 1% for the disease, the probability that a person actually has the disease given they received a positive result from both the first and the second tests is approximately 95.80%.\n",
        "\n",
        "\n"
      ],
      "metadata": {
        "id": "R1IQ68knf3Wq"
      }
    },
    {
      "cell_type": "markdown",
      "metadata": {
        "id": "kCpqjUVwgD7K"
      },
      "source": [
        "###### Simulation"
      ]
    },
    {
      "cell_type": "code",
      "source": [
        "import numpy as np\n",
        "# Given probabilities\n",
        "P_T1_D = 0.95\n",
        "P_T1_D_prime = 0.01\n",
        "P_T2_D = 0.95\n",
        "P_T2_D_prime = 0.04\n",
        "P_D = 0.01  # Assumed prevalence rate\n",
        "P_D_prime = 1 - P_D\n",
        "\n",
        "# Calculate P(T1 ∩ T2|D) and P(T1 ∩ T2|D')\n",
        "P_T1_T2_D = P_T1_D * P_T2_D\n",
        "P_T1_T2_D_prime = P_T1_D_prime * P_T2_D_prime\n",
        "\n",
        "# Apply Bayes' Theorem\n",
        "P_D_T1_T2 = (P_T1_T2_D * P_D) / (P_T1_T2_D * P_D + P_T1_T2_D_prime * P_D_prime)\n",
        "\n",
        "P_D_T1_T2\n",
        "\n",
        "# Simulation parameters\n",
        "n_simulations = 1000000\n",
        "disease = np.random.rand(n_simulations) < P_D  # True if the person has the disease\n",
        "\n",
        "# Simulating test outcomes based on disease status\n",
        "test1_results = np.where(disease, np.random.rand(n_simulations) < P_T1_D, np.random.rand(n_simulations) < P_T1_D_prime)\n",
        "test2_results = np.where(disease, np.random.rand(n_simulations) < P_T2_D, np.random.rand(n_simulations) < P_T2_D_prime)\n",
        "\n",
        "# Both tests positive\n",
        "both_tests_positive = test1_results & test2_results\n",
        "\n",
        "# Probability of having the disease given both tests are positive\n",
        "prob_simulated = np.mean(disease[both_tests_positive])\n",
        "\n",
        "prob_simulated\n"
      ],
      "metadata": {
        "colab": {
          "base_uri": "https://localhost:8080/"
        },
        "id": "JhN1j12Ufm7Y",
        "outputId": "40f23100-0d7b-4a63-9d65-86ced596962a"
      },
      "execution_count": 5,
      "outputs": [
        {
          "output_type": "execute_result",
          "data": {
            "text/plain": [
              "0.9548318206086492"
            ]
          },
          "metadata": {},
          "execution_count": 5
        }
      ]
    },
    {
      "cell_type": "markdown",
      "source": [
        "### **4** 10 points"
      ],
      "metadata": {
        "id": "ujEp95Cl7knf"
      }
    },
    {
      "cell_type": "markdown",
      "source": [
        "Protocol for making financial decisions in a certain corporation follows the “circuit” pictured in the figure below. Any budget is first screened by person 1. If they approve it, the plan is forwarded to 2, 3, and 5. If either 2 or 3 concurs, it goes to 4. If either 4 or 5 says “yes,” it moves on to 6 for a final reading. Only if 6 is also in agreement does\n",
        "the proposal pass. Suppose that 1, 5, and 6 each has a 50% chance of saying “yes,” whereas 2, 3, and 4 will each say \"yes\" with a probability of 0.70. If everyone comes to a decision independently, what is the probability that a budget will pass?"
      ],
      "metadata": {
        "id": "A5DEDkaX7vIZ"
      }
    },
    {
      "cell_type": "markdown",
      "source": [
        "![HW2_Circuit.png](data:image/png;base64,iVBORw0KGgoAAAANSUhEUgAAA8gAAAIKCAYAAAD/BWYJAAAMPmlDQ1BJQ0MgUHJvZmlsZQAASImVVwdYU8kWnluSkJDQAghICb0JIjWAlBBaAOlFsBGSAKGEmBBU7OiigmsXC9jQVRHFDogdsbMoNuyLBRVlXSzYlTcpoOu+8r2Tb+7988+Z/5w5d24ZADRPcMXiPFQLgHxRoSQ+LIgxOjWNQXoKEPijAhOAcHlSMSs2NgpAGzj/3d7dgL7QrjrJtf7Z/19Nmy+Q8gBAYiHO4Et5+RAfAACv4oklhQAQ5bzlpEKxHMMGdCUwQYjny3GWElfJcYYS71H4JMazIW4BQI3K5UqyANC4DHlGES8Lamj0Quwi4gtFAGgyIPbPzy/gQ5wOsR30EUMs12dm/KCT9TfNjEFNLjdrECvnojC1YKFUnMed8n+W439bfp5sIIYNbNRsSXi8fM6wbjdzCyLlmApxjygjOgZiHYg/CPkKf4hRSrYsPEnpjxrzpGxYM6APsQufGxwJsTHEoaK86CgVn5EpDOVADFcIOllYyEmE2ADi+QJpSILKZ6OkIF4VC63PlLBZKv4cV6KIK491X5abxFLpv84WcFT6mEZxdmIKxBSIrYqEydEQa0DsLM1NiFT5jCzOZkcP+Ehk8fL8rSCOF4jCgpT6WFGmJDRe5V+WLx2YL7YxW8iJVuF9hdmJ4cr6YC08riJ/OBfsskDEShrQEUhHRw3MhS8IDlHOHXsmECUlqHQ+iAuD4pVjcYo4L1blj1sI8sLkvAXE7tKiBNVYPLkQLkilPp4pLoxNVOaJF+dwI2KV+eBLQBRgg2DAADLYMkAByAHCtp6GHvhP2RMKuEACsoAAOKmYgREpih4RPCaAYvAnRAIgHRwXpOgVgCLIfx1klUcnkKnoLVKMyAVPIM4HkSAP/pcpRokGoyWDx5AR/iM6FzYezDcPNnn/v+cH2O8MCzJRKkY2EJGhOeBJDCEGE8OJoUR73Aj3x33xKHgMhM0VZ+LeA/P47k94QmgnPCRcJ3QSbk0Qlkh+ynIU6IT6oapaZPxYC9wGanrgQbgfVIfKuD5uBJxwdxiHhQfAyB6QZavylleF8ZP232bww9VQ+ZFdyCh5CDmQbPfzSA0HDY9BFXmtf6yPMteMwXqzB3t+js/+ofp8eI782RObj+3HzmInsfPYEawBMLDjWCPWih2V48HV9VixugaixSvyyYU6wn/EG7iy8kpKXWpdul2+KPsKBZPlz2jALhBPkQizsgsZLPhGEDA4Ip7zMIari6sbAPL3i/Lx9SZO8d5A9Fu/c3P+AMDveH9//+HvXMRxAPZ6wdv/0HfOjglfHeoAnDvEk0mKlBwuPxDgU0IT3mmGwBRYAjs4H1fgCXxBIAgBESAGJIJUMB5mnw3XuQRMAtPAbFAKysESsBKsBRvAZrAd7AL7QAM4Ak6CM+AiuAyugztw9XSBF6AXvAOfEQQhITSEjhgiZog14oi4IkzEHwlBopB4JBVJR7IQESJDpiFzkHJkGbIW2YTUIHuRQ8hJ5DzSjtxCHiDdyGvkE4qhVFQXNUFt0OEoE2WhkWgiOg7NQieixehcdBG6Gq1Gd6L16En0Inod7URfoH0YwNQxfcwcc8KYGBuLwdKwTEyCzcDKsAqsGqvDmuB1vop1Yj3YR5yI03EG7gRXcDiehPPwifgMfCG+Ft+O1+Mt+FX8Ad6LfyPQCMYER4IPgUMYTcgiTCKUEioIWwkHCafhvdRFeEckEvWJtkQveC+mEnOIU4kLieuIu4kniO3ER8Q+EolkSHIk+ZFiSFxSIamUtIa0k3ScdIXURfqgpq5mpuaqFqqWpiZSK1GrUNuhdkztitpTtc9kLbI12YccQ+aTp5AXk7eQm8iXyF3kzxRtii3Fj5JIyaHMpqym1FFOU+5S3qirq1uoe6vHqQvVZ6mvVt+jfk79gfpHqg7VgcqmjqXKqIuo26gnqLeob2g0mg0tkJZGK6QtotXQTtHu0z5o0DWcNTgafI2ZGpUa9RpXNF5qkjWtNVma4zWLNSs092te0uzRImvZaLG1uFoztCq1Dml1aPVp07VHaMdo52sv1N6hfV77mQ5Jx0YnRIevM1dns84pnUd0jG5JZ9N59Dn0LfTT9C5doq6tLkc3R7dcd5dum26vno6eu16y3mS9Sr2jep36mL6NPkc/T3+x/j79G/qfhpgMYQ0RDFkwpG7IlSHvDYYaBBoIDMoMdhtcN/hkyDAMMcw1XGrYYHjPCDdyMIozmmS03ui0Uc9Q3aG+Q3lDy4buG3rbGDV2MI43nmq82bjVuM/E1CTMRGyyxuSUSY+pvmmgaY7pCtNjpt1mdDN/M6HZCrPjZs8ZegwWI4+xmtHC6DU3Ng83l5lvMm8z/2xha5FkUWKx2+KeJcWSaZlpucKy2bLXysxqlNU0q1qr29Zka6Z1tvUq67PW721sbVJs5tk02DyzNbDl2Bbb1tretaPZBdhNtKu2u2ZPtGfa59qvs7/sgDp4OGQ7VDpcckQdPR2Fjusc24cRhnkPEw2rHtbhRHViORU51To9cNZ3jnIucW5wfjncanja8KXDzw7/5uLhkueyxeXOCJ0RESNKRjSNeO3q4MpzrXS95kZzC3Wb6dbo9srd0V3gvt79pgfdY5THPI9mj6+eXp4SzzrPbi8rr3SvKq8Opi4zlrmQec6b4B3kPdP7iPdHH0+fQp99Pn/5Ovnm+u7wfTbSdqRg5JaRj/ws/Lh+m/w6/Rn+6f4b/TsDzAO4AdUBDwMtA/mBWwOfsuxZOaydrJdBLkGSoINB79k+7OnsE8FYcFhwWXBbiE5IUsjakPuhFqFZobWhvWEeYVPDToQTwiPDl4Z3cEw4PE4NpzfCK2J6REskNTIhcm3kwyiHKElU0yh0VMSo5aPuRltHi6IbYkAMJ2Z5zL1Y29iJsYfjiHGxcZVxT+JHxE+LP5tAT5iQsCPhXWJQ4uLEO0l2SbKk5mTN5LHJNcnvU4JTlqV0jh4+evroi6lGqcLUxjRSWnLa1rS+MSFjVo7pGusxtnTsjXG24yaPOz/eaHze+KMTNCdwJ+xPJ6SnpO9I/8KN4VZz+zI4GVUZvTw2bxXvBT+Qv4LfLfATLBM8zfTLXJb5LMsva3lWd3ZAdkV2j5AtXCt8lROesyHnfW5M7rbc/ryUvN35avnp+YdEOqJcUUuBacHkgnaxo7hU3DnRZ+LKib2SSMlWKSIdJ20s1IUf8q0yO9kvsgdF/kWVRR8mJU/aP1l7smhy6xSHKQumPC0OLf5tKj6VN7V5mvm02dMeTGdN3zQDmZExo3mm5cy5M7tmhc3aPpsyO3f27yUuJctK3s5JmdM012TurLmPfgn7pbZUo1RS2jHPd96G+fh84fy2BW4L1iz4VsYvu1DuUl5R/mUhb+GFX0f8uvrX/kWZi9oWey5ev4S4RLTkxtKApduXaS8rXvZo+ajl9SsYK8pWvF05YeX5CveKDasoq2SrOldHrW5cY7VmyZova7PXXq8MqtxdZVy1oOr9Ov66K+sD19dtMNlQvuHTRuHGm5vCNtVX21RXbCZuLtr8ZEvylrO/MX+r2Wq0tXzr122ibZ3b47e31HjV1Oww3rG4Fq2V1XbvHLvz8q7gXY11TnWbduvvLt8D9sj2PN+bvvfGvsh9zfuZ++sOWB+oOkg/WFaP1E+p723IbuhsTG1sPxRxqLnJt+ngYefD246YH6k8qnd08THKsbnH+o8XH+87IT7RczLr5KPmCc13To0+da0lrqXtdOTpc2dCz5w6yzp7/JzfuSPnfc4fusC80HDR82J9q0frwd89fj/Y5tlWf8nrUuNl78tN7SPbj10JuHLyavDVM9c41y5ej77efiPpxs2OsR2dN/k3n93Ku/XqdtHtz3dm3SXcLbunda/ivvH96j/s/9jd6dl59EHwg9aHCQ/vPOI9evFY+vhL19wntCcVT82e1jxzfXakO7T78vMxz7teiF987in9U/vPqpd2Lw/8FfhXa+/o3q5Xklf9rxe+MXyz7a372+a+2L777/LffX5f9sHww/aPzI9nP6V8evp50hfSl9Vf7b82fYv8drc/v79fzJVwFZ8CGGxoZiYAr7cBQEsFgA73Z5Qxyv2fwhDlnlWBwH/Cyj2iwjwBqIPf73E98OumA4A9W+D2C+prjgUglgZAojdA3dwG28BeTbGvlBsR7gM2hnzNyM8A/8aUe84f8v75DOSq7uDn878AH9R8KwH3okQAAACKZVhJZk1NACoAAAAIAAQBGgAFAAAAAQAAAD4BGwAFAAAAAQAAAEYBKAADAAAAAQACAACHaQAEAAAAAQAAAE4AAAAAAAAAkAAAAAEAAACQAAAAAQADkoYABwAAABIAAAB4oAIABAAAAAEAAAPIoAMABAAAAAEAAAIKAAAAAEFTQ0lJAAAAU2NyZWVuc2hvdLEGYX8AAAAJcEhZcwAAFiUAABYlAUlSJPAAAAHWaVRYdFhNTDpjb20uYWRvYmUueG1wAAAAAAA8eDp4bXBtZXRhIHhtbG5zOng9ImFkb2JlOm5zOm1ldGEvIiB4OnhtcHRrPSJYTVAgQ29yZSA2LjAuMCI+CiAgIDxyZGY6UkRGIHhtbG5zOnJkZj0iaHR0cDovL3d3dy53My5vcmcvMTk5OS8wMi8yMi1yZGYtc3ludGF4LW5zIyI+CiAgICAgIDxyZGY6RGVzY3JpcHRpb24gcmRmOmFib3V0PSIiCiAgICAgICAgICAgIHhtbG5zOmV4aWY9Imh0dHA6Ly9ucy5hZG9iZS5jb20vZXhpZi8xLjAvIj4KICAgICAgICAgPGV4aWY6UGl4ZWxZRGltZW5zaW9uPjUyMjwvZXhpZjpQaXhlbFlEaW1lbnNpb24+CiAgICAgICAgIDxleGlmOlBpeGVsWERpbWVuc2lvbj45Njg8L2V4aWY6UGl4ZWxYRGltZW5zaW9uPgogICAgICAgICA8ZXhpZjpVc2VyQ29tbWVudD5TY3JlZW5zaG90PC9leGlmOlVzZXJDb21tZW50PgogICAgICA8L3JkZjpEZXNjcmlwdGlvbj4KICAgPC9yZGY6UkRGPgo8L3g6eG1wbWV0YT4KDoodHQAAABxpRE9UAAAAAgAAAAAAAAEFAAAAKAAAAQUAAAEFAABKRhMx3PYAAEAASURBVHgB7N0JvA31/8fxt/VqsS9t+qd+kcRVVCRps2dL1uzKUtlFi5Ile0i2QuJSdqkoWymVpSLujX6lnRahXyFc639m+l2/e939znLmnHmdx8P/njMz3+35OY//7/Fu5sxkO2O8xAsBBBBAAAEEEEAAAQQQQACBgAtkIyAH/BvA8hFAAAEEEEAAAQQQQAABBCwBAjJfBAQQQAABBBBAAAEEEEAAAQQMAQIyXwMEEEAAAQQQQAABBBBAAAEEDAECMl8DBBBAAAEEEEAAAQQQQAABBAwBAjJfAwQQQAABBBBAAAEEEEAAAQQMAQIyXwMEEEAAAQQQQAABBBBAAAEEDAECMl8DBBBAAAEEEEAAAQQQQAABBAwBAjJfAwQQQAABBBBAAAEEEEAAAQQMAQIyXwMEEEAAAQQQQAABBBBAAAEEDAECMl8DBBBAAAEEEEAAAQQQQAABBAwBAjJfAwQQQAABBBBAAAEEEEAAAQQMAQIyXwMEEEAAAQQQQAABBBBAAAEEDAECMl8DBBBAAIEsCZw+fVqHDh3SsWPHrH9nzpxRVFSU8uTJo7x58ypnzpxZ6pdGCCCAAAIIIIBAqAQIyKGSZ1wEEEAgjATM8PvjDz8oLjZOcXGx2r49Vjt37NCRI0dSXEWuXLlUunRplYsup+jo8tbfkqVKKUeOHCkez0YEEEAAAQQQQMAPAgRkP1SBOSCAAAI+FYjdvl0xs2P07to1OnjwULJZ5suX1zhrnMc6a5wtWzbFx8dbZ5MPHjwoM1Qnfplnlm+pUkVt2rRRtTtul3k8LwQQQAABBBBAwE8CBGQ/VYO5IIAAAj4QOH78uFYsX24FYzMgJ7yKFi2q6PLljTPC5Ywzwv+cFS5UqFDC7iR/Dx8+rB1ffKHY2Fh9YZx13m70s3v37rPHXFGihBWUmzRtorz58p3dzhsEEEAAAQQQQCCUAgTkUOozNgIIIOAjATMYT3vxRSsYHzhwwJpZ/vz51ax5c7Vsdb+uuOIKW7M9sH+/lixerLlz5urnn3+2+jrvvPN0X5P71LtvXxUoUMBW/zRGAAEEEEAAAQTsChCQ7QrSHgEEEIgAgS+Ms72P9umrXV9/ba2mTJlr1bZde9Vv2MC6fNrJJZo393p37VrFzJqtDRs2WF2bZ6eHjxyhu+6+28mh6AsBBBBAAAEEEMiUAAE5U1wcjAACCESWwIkTJzRl0mRNnjRJp06dUokrr9Sw4cNV+ZbKnix0165denrAU/r0k0+s8cyzyU8/84x1F2xPJsAgCCCAAAIIIIBAIgECciIM3iKAAAJBEjDDad9evbRjx05r2R06dtCj/fs7fsY4PVPzZl6zZr6iMaNHWzf5uuSSSzT6uTGqcuut6TVlPwIIIIAAAggg4KgAAdlRTjpDAAEEwkPAvKS6zf2tjDtTH9Tll19uBdKbK1UK6eS/+/Zb9Xv0UW37fJv1OKiJxlntWnVqh3RODI4AAggggAACwRIgIAer3qwWAQQQUOJwXLNmDY19/nmdf/75vpAxL/MeM2q0pk+bRkj2RUWYBAIIIIAAAsESICAHq96sFgEEAi6QOBzXql1LEyZOVK5cuXynMnbMGE2ZPEU5c+bUC8YcOZPsuxIxIQQQQAABBCJSgIAckWVlUQgggEBygR1f7FDr+++3Lqv2czhOmDkhOUGCvwgggAACCCDglQAB2StpxkEAAQRCKHDwr4OqXbOm9u7dq3AIxwlUCSE5d1RuvbV8ha4ueXXCLv4igAACCCCAAAKOCxCQHSelQwQQQMB/AuYzjl9fulQVKlTQawvm+/Ky6tTUnuj/mBYuXKjo6Ggtfn2p9dvk1I5lOwIIIIAAAgggYEeAgGxHj7YIIIBAGAisXbNGXTp1th7ftGLlOypRokQYzPp/Uzx8+LDq1qqtn3/+WX369tUj3bv9byfvEEAAAQQQQAABBwUIyA5i0hUCCCDgN4H//Oc/ql2jpvbv36+BzwxUuw4d/DbFDM1n44YNxu+nW1lnvpe9+YZKX3tthtpxEAIIIIAAAgggkBkBAnJmtDgWAQQQCDOBnt27a/lby1W5ciXNnTdP2bJlC7MV/G+6g54eqDlz5uhaIxy/boRkP959+3+z5R0CCCCAAAIIhKMAATkcq8acEUAAgQwIfPXvf6tu7To677zz9M7qVbr88ssz0Mq/hxw5csS61Hr37t0abzy7uUGjhv6dLDNDAAEEEEAAgbAUICCHZdmYNAIIIJC+wFNPPKl5xlnjtu3a6ZnBg9JvEAZHzDfWM8BY1w0VbtBi46ZjvBBAAAEEEEAAAScFCMhOatIXAggg4BMB87FOVSpX1tGjR7Xm3bW66l//8snM7E3DXE+VSpWtZzm/sfwtlS1b1l6HtEYAAQQQQAABBBIJEJATYfAWAQQQiBSBl6fP0PBhw1S1alXNnjvHlWXt2b1H69a9p6+/+krff/ed8ubNqxJXXqXqNaqr4o03ujKm2enwZ5/VyzNe1n1N7tPo555zbRw6RgABBBBAAIHgCRCQg1dzVowAAhEucObMGd11+x366aef9NL0aUZgreHoiuOPxeulF6dq6tSpOh5/PMW+a9asoedfmKioPFEp7rez8ccff9Tdd9ypXLlzacOmTSpYsKCd7miLAAIIIIAAAgicFSAgn6XgDQIIIBAZApuN0Hh/i5YqXvwyrVu/XtmzZ3dsYWb47tq5i8xnK6f3MkPy1GnT0jssS/sf6NBR769bZ/222vyNNS8EEEAAAQQQQMAJAQKyE4r0gQACCPhI4MUpUzVm9GhXbs41/aWXNHLESOXLl1fduvdQlVur6ELj0urvvv1O8197VatXJw3OS15fqutvuMFxnYSbdTVo2EDjJ0xwvH86RAABBBBAAIFgChCQg1l3Vo0AAhEs8HDXrlq1cpWeGzdW9zZu7NhKzRtk3XhDBRUpUlgLlyzRRRddlKzviUZYfX7882e3d3ygowY8/fTZz0692bljp+rfc4+uKFFC772/zqlu6QcBBBBAAAEEAi5AQA74F4DlI4BA5AlUrXKrfv3lF60yLoO+uuTVji1w5TvvqPsj3bT87RW6pnTpFPs9fvy4atx1l/bs+dnaf3f16po2Y3qKx9rZePLkSZW77jrrN9DbYrcrb758drqjLQIIIIAAAgggYAkQkPkiIIAAAhEkcODAAd1c8UZdcMEF2hYX6+jvj5/o/5iOHDmiCZMmpin25GOPa8GCBdYxt9xSWXONZxe78Wrc6F5t37ZNc41Lu2+pUsWNIegTAQQQQAABBAImQEAOWMFZLgIIRLbA+++t0wMdO6pSpUp6bcF8Rxd7+vRpmWduc+fOnWa/k154QePHjbeOad2mtQYPHZrm8VndOXjgM4qJiVH/x/qry0MPZbUb2iGAAAIIIIAAAmcFCMhnKXiDAAIIhL9Awk20OnTsoKcGDgzJggY9PVBz5vzz7OURo0aqWfPmrsxj0YKFevyxx9To3ns1dvw4V8agUwQQQAABBBAIlgABOVj1ZrUIIBDhAs8bZ24nGmdwe/Xupe49e4ZktU0b36etW7eqcOHCev/D9Tr//PNdmceqd1bqYePMcc1aNTXVuLs2LwQQQAABBBBAwK4AAdmuIO0RQCBDAvHH4rVy5TsZOpaDsi7w1ptvad177+nxJx5Xpy5dst5RFlt+ERenhvUbWK2fePJJPdi5UxZ7Sr/ZB+veV8cOHVT62tLqHIK1pj/DyDqiinHzt6LFikbWolgNAggggAAC5wgQkM8B4SMCCLgjsO/3fap8883udE6vyQSeHvi02hu/Rfb69YARWN83gmt0+fJauHiRcuXK5doUNm7YoNb3t3KtfzpOKjArZrZuq1Yt6UY+IYAAAgggEGECBOQIKyjLQcCvAokDcoOG/5xh9Otcw3leO4znA3/7zTchOYP8xrJl6tOrt/Lly6u3Vryt4pcXd5Xyg/c/UMf27VXMOKtZ+ZZbXB0ryJ2/+cab1vIJyEH+FrB2BBBAIDgCBOTg1JqVIhBSgYSAXKRIEW3+7NOQziWSBx8/dpwmTZyo3n16q1uPHp4t9btvv7UurT569Khemj5N5vOP3X6tXrlKD3Xtqpo1a2jqtGluDxfY/tu3aasPP/xQBOTAfgVYOAIIIBAoAQJyoMrNYhEInQAB2Rv7l6ZO1ehRo/Vgpwf1xIABngx6+PBhNTFuzLXr6681aMhgtWnb1pNxly5erH6P9lODhg01fsLznowZxEEIyEGsOmtGAAEEgitAQA5u7Vk5Ap4KEJC94V67Zo26dOqsKlWqaM5rr7o+qPlc5E4dH9D69evVxTib2//xx1wfM2GAZ4cM0SszX1Gfvn31SPduCZv567AAAdlhULpDAAEEEPC1AAHZ1+VhcghEjgAB2Zta7t27V1UqVbZ+B7x1+3Zly5bN1YEHPP6E5s+fbz2L+LlxY10fL/FimjVpqi2ffaZXZs9StdtvT7yL9w4KEJAdxKQrBBBAAAHfCxCQfV8iJohAZAgQkL2r4y03V9Lvv/+ud9e9pxJXXunawFMmTdbY557TXXffbTyH+EXlzJkzxbFOnDjh+N2sT506pfJly8n8zfNnn29VwYIFUxybjfYFCMj2DekBAQQQQCB8BAjI4VMrZopAWAsQkL0rX+cHO+ndtWv1/IQJqu/SHcOXLFqs/v366Sbj0V2zY2IUlScqxQWal2DXrV1b3bp1V4NGDVM8Jisbv/7qK9WpVVvFixfXBx99mJUuaJNBAQJyBqE4DAEEEEAgIgQIyBFRRhaBgP8FCMje1WjSCy9o/LjxeuDBB/TkU085PrD5eKVODzyg0qWv0avG5dV58+ZNcYwzZ85o6OAhWrhggTZ+sjnV41JsnM7GhIBet25dTZwyOZ2j2W1HgIBsR4+2CCCAAALhJkBADreKMV8EwlSAgOxd4T4yHsnTzng0z5VXXaU176519HfBcbGxatm8hXVpc6N771WRIoWTLcy8/PngwYP6ZPMn2r17t5o1a6YRo0clO87Ohm4PPax33nlHTzz5pB7s3MlOV7RNR4CAnA4QuxFAAAEEIkqAgBxR5WQxCPhXgIDsXW3MgHp71dv066+/avacGFW97TZHBv/hhx/U7L4mOnDgQKb6e/2NZYouXz5TbdI62FyXuT7zBmQfbvhYxYoVS+tw9tkUICDbBKQ5AggggEBYCRCQw6pcTBaB8BUgIHtbu8kTJ2nc2LG6u3p1TZsx3ZHBhw0dqpkvz8xUX2XKXKu33n47U23SO3iccWOwycYNwurVq6cJkyamdzj7bQoQkG0C0hwBBBBAIKwECMhhVS4mi0D4ChCQva2deZa36i1VZN5B+oMP1+sy42ZWkfA6fvy4tS5zfQsWLdSNN90UCcvy9RoIyL4uD5NDAAEEEHBYgIDsMCjdIYBAygIE5JRd3Nzap1dvvbFsmTp36aLHnnjczaE863vZ66+rb+8+cuPMtGeLCLOBCMhhVjCmiwACCCBgS4CAbIuPxgggkFEBAnJGpZw7bvu2bWrc6F7ly5dXq9e+q6LFijrXeQh6Ms8eN7innnbt2qURo0aqWfPmIZhF8IYkIAev5qwYAQQQCLIAATnI1WftCHgoQED2EDvRUA906KD3172vu+6+W9NfnpFoT/i9HTtmjKZMnqIrSpTQOytXpvrs5fBbmb9nTED2d32YHQIIIICAswIEZGc96Q0BBFIRICCnAuPy5t9++011atY0Hrt0SGOeG6PGTZq4PKI73Ztnw5s0vk/ms5UXLF6kihUrujMQvSYTICAnI2EDAggggEAECxCQI7i4LA0BPwkQkENXjdeXLtWjffoqb968WrlmtS6++OLQTSYLI8cfi1f9evfo22++VafOnfX4k09koReaZFWAgJxVOdohgAACCISjAAE5HKvGnBEIQwECcmiL1qVTZ61ds0bVqlXTzNmzrGcIh3ZGGR99xLBhmjF9hq6++mq9uWK5oqKiMt6YI20LEJBtE9IBAggggEAYCRCQw6hYTBWBcBYgIIe2evv37VOtGjX1559/qrlxc6thI0eERUh+xXju8rPG85dz5MihJa8vVbno6NBCBnB0AnIAi86SEUAAgQALEJADXHyWjoCXAgRkL7VTHmvzpk3q2L6Djh07FhYhOSEcm6sZbgT65i1apLwwtroqQEB2lZfOEUAAAQR8JkBA9llBmA4CkSpAQPZHZTdt3CTzztZ+D8mEY398X8xZEJD9UwtmggACCCDgvgAB2X1jRkAAAUOAgOyfr0HikNysWTMNGfascuXK5ZsJTp82TSOHj7Dmw5nj0JeFgBz6GjADBBBAAAHvBAjI3lkzEgKBFiAg+6v8Gzds1IMdO1pnkq+7rozGjB2ra0qXDukkf//9dz3x2GPWc5vNiQwbMVwtWrYM6ZwYnDPIfAcQQAABBIIlQEAOVr1ZLQIhEyAgh4w+1YG3btmqPr16affu3dYZ5B49e6rLQ12tG2Kl2silHW8sW6ZBA58xntd8UPnz59dQ46z2PfXquTQa3WZGgDPImdHiWAQQQACBcBcgIId7BZk/AmEiQED2Z6GOHDmiUSNGaO6cudYEo8uX16jRo1Tqmms8mfDevXuNYDxQq1ettsa78667rBtyFStWzJPxGSR9AQJy+kYcgQACCCAQOQIE5MipJStBwNcCBGRfl0cbPv5Y/fv116+//GJNtGrVqmrbvp3MwJo9e3bHJ79lyxbFzJqlle+s1MmTJ5U3b149bQTl+5o2cXwsOrQnQEC250drBBBAAIHwEiAgh1e9mC0CYStAQPZ/6Q4dOqRxz43VwgULrN8mmzMuXry4WrdprabGs5MLFChgaxHxx+L11ptvKmb2bO3YscPqywzftWvX1hNPDdCll15qq38auyNAQHbHlV4RQAABBPwpQED2Z12YFQIRJ0BADp+SHvzroBYtXGhcdj1HP/30kzVxM8iWKlVK5aLLKTq6vPXXvKlX7ty5U1zY6dOn9e233ypu+3bFxcZpe2ysvvxyp47HH7eOL1SokHEDrhZq2aoVwThFQf9sJCD7pxbMBAEEEEDAfQECsvvGjIAAAoYAATn8vgZmyP3g/fetM74ff/SxTp06lWQRZji+9LLLlCcqSlF58hiXYmdT/LFjOmqcKf7d+G3x33//neR480N0dLTatGtr3YArymjHy/8CBGT/14gZIoAAAgg4J0BAds6SnhBAIA0BAnIaOGGw65gRfHfu2GmcDd6uWOOMcKzx9/vvvteZM2dSnf1lRnguV84441w+2jjjHK2yZcspX/58qR7PDn8KEJD9WRdmhQACCCDgjgAB2R1XekUAgXMECMjngETAx8OHDxtXBvxu/V75mHHW2AzL5lnhPMbZ5IKFCsq8jJpX+AsQkMO/hqwAAQQQQCDjAgTkjFtxJAII2BAgINvAoykCIRQgIIcQn6ERQAABBDwXICB7Ts6ACARTgIAczLqz6vAXICCHfw1ZAQIIIIBAxgUIyBm34kgEELAhQEC2gUdTBEIoQEAOIT5DI4AAAgh4LkBA9pycAREIpgABOZh1Z9XhL0BADv8asgIEEEAAgYwLEJAzbsWRCCBgQ4CAbAOPpgiEUICAHEJ8hkYAAQQQ8FyAgOw5OQMiEEwBAnIw686qw1+AgBz+NWQFCCCAAAIZFyAgZ9yKIxFAwIYAAdkGHk0RCKEAATmE+AyNAAIIIOC5AAHZc3IGRCCYAgTkYNadVYe/AAE5/GvIChBAAAEEMi5AQM64FUcigIANAQKyDTyaIhBCAQJyCPFDMPTRo0d15O+/dezYMZ04cUI5cuZUnqg8ynNeHuXNmzcEM2JIBBBAwFsBArK33oyGQGAFCMiBLT0LD3MBAnKYFzCN6R85ckQ7vvhCsdtjFRcXa/398ccfU21RtGgRlS0XrfLlo1XO+FvO+Fu4cOFUj2cHAgggEI4CBORwrBpzRiAMBQjIYVg0poyAIUBAjqyvgRmKX1+yVAvmz9fOnTt15syZJAvMlSuXdaY4Kk8e5c6dW6dOnjDOJsfr8OHD1lnlJAcbH4oXv0wNG92r+1u30sUXX3zubj4jgAACYSdAQA67kjFhBMJTgIAcnnVj1ggQkCPjO/DD999rTswcLVm8WIcOHbIWldO4fPqaa65RdPnyKhddzjorXOqaUjK3p/Qyzy7H/fdsc1xsnL4wzj7/bVyObb5y5MihWrVqqU27trq5UqWUmrMNAQQQCAsBAnJYlIlJIhD+AgTk8K8hKwimAAE5vOu+44sdem70aK1fv/7sQm686Sa1NYJs9Ro1FBUVdXZ7Zt+cPn1aW7ds0ZzZMVq5cqVOnjxpdVG6dGl179lDtevUyWyXHI8AAgiEXICAHPISMAEEgiFAQA5GnVll5AkQkMOzpmZYnTJpkiZPmmwF1zzGJdMNGza0zvBeW6aM44vau3ev5r36mubPe0379u23+q9Xr54GDR2iggULOj4eHSKAAAJuCRCQ3ZKlXwQQSCJAQE7CwQcEwkaAgBw2pTo70a+//lr9+vS1LoE2N7bv0EE9evVU/vz5zx7j1pvjx49r0YKFGjlihMzfO5s39np2+HDrbLVbY9IvAggg4KQAAdlJTfpCAIFUBQjIqdKwAwFfCxCQfV2eJJMzb7g1/aWXNH7ceJlBtXjx4hr93BhVqlw5yXFefNi9e7ce79dPmzZttoa7t3FjDRoyWBdeeKEXwzMGAgggkGUBAnKW6WiIAAKZESAgZ0aLYxHwjwAB2T+1SGsmZjge+NRTes24zNl83d/qfj3+5JO64IIL0mrm6j5zTjGzZmn0qNHWHbCvv+F6zYqJ4XnKrqrTOQII2BUgINsVpD0CCGRIgICcISYOQsB3AgRk35Uk2YQSh2PzpluTp07RnXfdley4UG34/rvv1L5tO+3Zs0eE5FBVgXERQCCjAgTkjEpxHAII2BIgINviozECIRMgIIeMPkMDnxuOZ8x8WVVuvTVDbb086Jeff1bL5i0IyV6iMxYCCGRJgICcJTYaIYBAZgUIyJkV43gE/CFAQPZHHVKaRbiE44S5E5ITJPiLAAJ+FiAg+7k6zA2BCBIgIEdQMVlKoAQIyP4t92zj971DBg22nmXs1zPH5+olDsl169bVxCmTzz2EzwgggEBIBQjIIeVncASCI0BADk6tWWlkCRCQ/VnPH374QffUrmPd/Grqiy+qZu1a/pxoCrMy73Btzv3vv//WhIkvqF79+ikcxSYEEEAgNAIE5NC4MyoCgRMgIAeu5Cw4QgQIyP4r5OnTp9W8aTNt3bJFje69V2PHj/PfJNOZ0fx58zTgiSdVoEABrVqzWkWKFk2nBbsRQAABbwQIyN44MwoCgRcgIAf+KwBAmAoQkP1XuBnTpmvE8OG66KKLtHL1auXLn89/k8zAjDq0a6f1H6xX9Ro19NL0aRlowSEIIICA+wIEZPeNGQEBBAwBAjJfAwTCU4CA7K+6ffvNt6p3T10djz+umcZvkG+/43Z/TTATs/ntt99Up2ZNHTx4yDoLbp4N54UAAgiEWoCAHOoKMD4CAREgIAek0Cwz4gQIyP4qae+ePfXmG2+qabOmGjl6tL8ml4XZLF28WP0e7afixS/TuvXrlT179iz0QhMEEEDAOQECsnOW9IQAAmkIEJDTwGEXAj4WICD7pzj79+1T1Sq36tSpU/rgow916aWX+mdyWZyJ+aiqu++4Uz/++KN1mbV5uTUvBBBAIJQCBORQ6jM2AgESICAHqNgsNaIECMj+KeekF17Q+HHjVbNWTU196SX/TMzmTGbOeFnDnn1WVatW1ey5c2z2RnMEEEDAngAB2Z4frRFAIIMCBOQMQnEYAj4TICD7oyAnT55UtVurau/evZr72qu6pUoVzyb26SefaPTIUSp9bWkNHTbM8XEP/nVQVSpX1tGjR7Xm3bW66l//cnwMOkQAAQQyKkBAzqgUxyGAgC0BArItPhojEDIBAnLI6JMM/PaKFer+SDeVLFlSK43HInn1Onz4sPXM4j179qhCxYpatGSxK0M/ZTzyaZ7x6Ke2xp2tnxk8yJUx6BQBBBDIiAABOSNKHIMAArYFCMi2CekAgZAIEJBDwp5s0I7t2+uD9z/QkKFD1apN62T73drweP/+WrRwkdW9mwH5q3//W3Vr11HevHm1ZdvnypEjh1tLol8EEEAgTQECcpo87EQAAacECMhOSdIPAt4KEJC99U5ttBuiyxuPQzqoDZs3Wc8/Tu04J7evMZ6x3LVzl7NduhmQzUHuuK2adu/erXdWrVSpa645Oy5vEEAAAS8FCMheajMWAgEWICAHuPgsPawFCMihL98PP/xg3em5WLFi2vjJZk8mdGD/ftWpVVsHDhw4O57bAbmHcQn5CuNS8lHG46uaGI+x4oUAAgiEQoCAHAp1xkQggAIE5AAWnSVHhAABOfRlXP7mW+rZo4furl5d02ZM92RCXTp11rr33tOApwZoyOAh1phuB+Tpxp25R44YqdbGJeSDjUvJeSGAAAKhECAgh0KdMREIoAABOYBFZ8kRIUBADn0ZhxuPQHrZeBRS7z691c0Iym6/Fi1YqMcfe0yPdOumO+68U03vu88a0u2AvGnjJrVq2VLR0dF6/c033F4m/SOAAAIpChCQU2RhIwIIOC3w8YcfqW2bNrrgggu0cvUqXXrZZU4PQX8IIOCwwKlTp9SofgPt3LlTnTp3Uo9evXT++ec7PArdpSfQollzmY9amjlrlm6/4/b0Dre13/wN8D3GzbL+7//+zwqpcbFxngVk847Z5cuWU+7cuRW74wvlypXL1lpojAACCGRFgICcFTXaIIBAhgXij8WrR/fuWrtmzdk22bNn14OdOumxJx4/u403CCDgL4Hvv/tOHdt30E8//XR2YuYdhsdPeF533nXX2W28cV+g4vU36M8//9TmTz9RkaJFXRvw9OnTatm8hbZ9/rmWGWdwry1TRlu3bPUsIJsLu+v2O/Tjjz9qlfG/GVeXvNq1tdIxAgggkJoAATk1GbYjgIAjAr179tKbb6R8qdyTAwbogU4POjIOnSCAgHMCR48etW4KtXfv3mSdmmf3Xn9jmUpfe22yfWxwR+DaUtfo+PHj2vnVvxUVFeXOIEavCb8B7tO3jx4x/sOm+fI6IN/boKFiY2Ot71h0+fLWHPg/CCCAgJcCBGQvtRnLdwJvLntDp8+c9t28ImVCf/7xHz1r/HbuzJkzKS7poosu0ocbPuZ5lynqsBGB0AnMnzdPA554MtUJ3HTzzWrRskWq+9nhnMCZ02f0aN++ypYtm775/jvnOj6np39/+aUaGeG0dOnSWvz6UuXMmdM6wuuAnHA5ufn756v+ddU5s+SjHYFKlSvrkksusdMFbREIhAABORBlZpGpCZS86l8yLynjFToBMyBfeumloZsAIyOAQDKBAY8/ofnz5yfbzobQCeSOyq0vv/rKlQmYZ6fNM7ffGZfVv7liuUqWLHl2HK8DcrvWbfTRRx+dHZ83zgm8OO0l1ahZ07kO6QmBCBUgIEdoYVlWxgQSAnK9evWUPUeOjDXiqAwL7N+3Txs2bEjz+K3btyl//vxpHsNOBBDwViDhrsmpjVqwYEHdVq1aarvZ7qjAGeNnKm+6egZ5lPFopWnGI5YeN+4L0alLlySz9zogJ5xBrlr1VhUqXCTJXPiQNYGEnzkRkLPmR6vgCRCQg1dzVpxIICEgf/XNrrOXkyXazVubAidPnlS1W6sqpd8xml2bd2M178rKCwEE/CXwRVycGhp3r07tNWjIYLVp2za13Wx3WKB0yVI6ceKEvvz6K+sOz052b94d27wx1w033KAFixfJvIli4pfXAfneho0Uu327li57XeWvvz7xVHifRQHzmdbmjTIJyFkEpFngBAjIgSs5C04sQEBOrOHO+3fXrtXDXR+SGZYTvwoVKqRX589TqVKlEm/mPQII+ERg8MBnFBMTk2w2lSpV0szZs5QnT55k+9jgjsAN0eV18OBBfbp1i8z/3+nUy7y0usZdd2vPnj1auGSxSpQokazruO2xeqBjR2v7tcaN2WbPnWO9Nx/3dd555yU73u6G6sZ8zDuov2M8DpD/fbCr+U97ArIzjvQSHAECcnBqzUpTECAgp4DiwqZPNm/WhPHPa9OmTVbvDRs1Uvce3XXlVdyAxQVuukTAMYF5r76q4cOG68iRI9ZPIVobzzLv+vBDPAvZMeGMddS08X3aunWrYoxwemvVqhlrlIGj/vjjD91UoWIGjkx+yI033aQFixYm32Fji/k9M5+DbJ7FNp+D7OYdu21MM+yaEpDDrmRMOMQCBOQQF4DhQytAQPbOf9/v+1TZuPNtkSJFtPmzT70bmJEQQMCWQPs2bfXhhx9qVsxsfndsSzLrjYcOHqJZr7yifv37W/+BIus9JW1pJyBXqFBBi5YuSdqhzU+fffqpmjdtpuuuu866WZjN7mj+XwECMl8FBDInQEDOnBdHR5gAAdm7ghKQvbNmJAScFCAgO6mZtb6Wvf66+vbuo1q1a2nKiy9mrZMUWh07dkwx6dwH4ueff9bcOXOt1sWLX6ZWrVtb76+4ooRq1amdQq9Z3zRzxssaZjwasGXLlnp2xPCsd0TLJAIE5CQcfEAgXQECcrpEHBDJAgRk76pLQPbOmpEQcFKAgOykZtb6+vabb1WzenVdYjwS7yPj0Xhevry8SVfvnj2tO3YPM8JxCyMk83JGgIDsjCO9BEeAgBycWrPSFAQIyCmguLSJgOwSLN0i4LIAAdll4Ax0f+bMGV1fLlqHDx/WJ1s+U+HChTPQyplDvAzId995l374/nu9tWKFylxXxpkF0IsIyHwJEMicAAE5c14cHWECBGTvCkpA9s6akRBwUoCA7KRm1vtqc38r67nyo0aPVpNmTbPeUSZbehWQzWBsBmTzztjb4mJ59GIm65TW4QTktHTYh0ByAQJychO2BEiAgOxdsQnI3lkzEgJOChCQndTMel9LlyxRv76Pen4DK68CcsKNyJo3b67ho0ZmHYqWyQQIyMlI2IBAmgIE5DR52BnpAgRk7ypMQPbOmpEQcFKAgOykZtb7io+PV9Vbqsi88/QiIyxXqFgh651louXOHTtV/557rBYVKlY0xl6cidYZO9R8vFOVSpV16NAhrXjnbZU2nrfMyzkBArJzlvQUDAECcjDqzCpTESAgpwLjwmYCsguodImABwIEZA+QMzjE2DFjNGXyFDVo2EDjJ0zIYCv/H/ba3Ff19FNPyY1nK/t/9e7PkIDsvjEjRJYAATmy6slqMilAQM4kmI3DCcg28GiKQAgFCMghxD9n6F9//VXVbq2qHDlyWHezLlK06DlHhOfH2jVradfXX+uFSRN1T7164bkIH8+agOzj4jA1XwoQkH1ZFibllQAB2StpiYDsnTUjIeCkAAHZSU37fT3ctatWrVylDh076KmBA+13GOIeVr2zUg8/9JCKFSumD41HWOXMmTPEM4q84QnIkVdTVuSuAAHZXV9697kAAdm7AhGQvbNmJAScFCAgO6lpvy/zN8GNGjTQ6dOnNX/hAuuyZPu9hqYH8/fUtWvU1IEDBzRk6FC1atM6NBOJ8FEJyBFeYJbnuAAB2XFSOgwnAQKyd9UiIHtnzUgIOClAQHZS05m+Jox/Xi8Yv0H+v//7P61Y+Y7OP/98Zzr2uJfuDz+it99+W1WqVFHMq3OVLVs2j2cQjOEIyMGoM6t0ToCA7JwlPYWhAAHZu6IRkL2zZiQEnBQgIDup6UxfJ06c0H2NGmmHcTa5TZs2GjR0iDMde9jL8rfeUs/uPXTBBRdo5epVuvSyyzwcPVhDEZCDVW9Wa1+AgGzfkB7CWICA7F3xCMjeWTMSAk4KEJCd1HSur6/+/W81rN9AZliOmTtHt1at6lznLvdk/u9B7Zo19eeff2r4yBFq3qKFyyMGu3sCcrDrz+ozL0BAzrwZLSJIgIDsXTEJyN5ZMxICTgoQkJ3UdLavKZMma+xzzylv3rxWSI4uX97ZAVzozfy9cauW91t3rb79jts1c9YsF0ahy8QCBOTEGrxHIH0BAnL6RhwRwQIEZO+KS0D2zpqREHBSgIDspKazfZ06dUp9evbS8uXLwyIkJw7HJUuW1Kvz56lw4cLOotBbMgECcjISNiCQpgABOU0edka6AAHZuwoTkL2zZiQEnBQgIDup6XxfZkju3aOnVqxY4euQTDh2vvYZ7ZGAnFEpjkPgHwECMt+EQAsQkL0rPwHZO2tGQsBJAQKyk5ru9HVuSH551iuqWLGiO4Nlode9e/eqXZu21mXVnDnOAqDNJgRkm4A0D5wAATlwJWfBiQUIyIk13H1PQHbXl94RcEuAgOyWrLP9njx50rrc2jyTnCNHDnV9qKu69eih3LlzOztQJnt7Y9kyDX5mkP766y9Z4XjeaypcpEgme+FwOwIEZDt6tA2iAAE5iFVnzWcFCMhnKVx/Q0B2nZgBEHBFgIDsCqsrnZohecyo0Xp5xgydOXNG1157rcaMfU7XlinjynhpdWpeUv30gAFatXKVddgdd96p0c+N4TfHaaG5tI+A7BIs3UasAAE5YkvLwjIiQEDOiJIzxxCQnXGkFwS8FiAgey1uf7wtn32mfn0f1Y8//qicOXOqR88eerBTZ0XlibLfeTo9mMH8beMs9qCBz+iPP/7QhRdeqKcHDlSTZk3TaclutwQIyG7J0m+kChCQI7WyrCtDAgTkDDE5chAB2RFGOkHAcwECsufkjgx49OhRjR45SjGzZ1v9FSxY0HjecHO1at1al152mSNjJO7k0KFDWrp4sebMmavvv/vO2lXVeDbziNGjdOmllyY+lPceCxCQPQZnuLAXICCHfQlZgB0BArIdvcy1JSBnzoujEfCLAAHZL5XI2jw2btioUSNGKC4uzuoge/bsql6jutq2a6dbqlTJWqeJWn37zbeaY4TwpUuX6u+//7b2XGIE4kceeVgtW7VKdCRvQyVAQA6VPOOGqwABOVwrx7wdESAgO8KYoU4IyBli4iAEfCdAQPZdSbI0oW2ff67Zs2brnbff1okTJ6w+ChQooHLlyim6fLTKlotWuehyuuSSS1Lt/+BfB/XFF3GK3R6ruNhYbTf+/frLL2ePv+WWykbwbq+7jQBu3iiMlz8ECMj+qAOzCB8BAnL41IqZuiBAQHYBNZUuCcipwLAZAZ8LEJB9XqBMTm//vn2aP2+e8W++fv3112StCxcurAIFCyhPVB5FRUVZYfrYsWM6bJwdThyGExqavzFu0LCB2hhnpEuVKpWwmb8+EiAg+6gYTCUsBAjIYVEmJumWAAHZLdnk/RKQk5uwBYFwECAgh0OVsjbHX4yzv1/ExhmXX8f+c1bYuAzbfBxTai8zMJe5roxx1jnaOuts/r3qX1fJvGybl38FCMj+rQ0z86cAAdmfdWFWHgkQkD2CNoYhIHtnzUgIOClAQHZS0/99mWeV/z78t47FH1N8fLxy58pl3P06j/IY/8ybbZl3xeYVXgIE5PCqF7MNvQABOfQ1YAYhFCAge4dPQPbOmpEQcFKAgOykJn0h4L0AAdl7c0YMbwECcnjXj9nbFCAg2wTMRHMCciawOBQBHwkQkH1UDKaCQBYECMhZQKNJoAUIyIEuP4snIHv3HSAge2fNSAg4KUBAdlKTvhDwXoCA7L05I4a3AAE5vOvH7G0KEJBtAmaiOQE5E1gcioCPBAjIPioGU0EgCwIE5Cyg0STQAgTkQJefxROQvfsOEJC9s2YkBJwUICA7qUlfCHgvQED23pwRw1uAgBze9WP2NgUIyDYBM9GcgJwJLA5FwEcCBGQfFYOpIJAFAQJyFtBoEmgBAnKgy8/iCcjefQcIyN5ZMxICTgoQkJ3UpC8EvBcgIHtvzojhLUBADu/6MXubAgRkm4CZaE5AzgQWhyLgIwECso+KwVQQyIIAATkLaDQJtAABOdDlZ/EEZO++AwRk76y9GGn/vn2Ki4vTb7/+qmPH4o1/x3TmzBlFRUUpT548KlS4kMqWK6fLL7/ci+kwhosCBGQXcekaAQ8ECMgeIDNERAkQkCOqnCwmswIE5MyKZf14AnLW7ULd0gy/n37yieJi44x/2xVr/P3tt98yNK0CBQooOjpa5aLLGYE5WjdXulnmNl7hI0BADp9aMVMEUhIgIKekwjYEUhcgIKduw54ACBCQvSsyAdk7a6dG2r17t+bGxGjhgoU6ePBgkm4vvPBClStXViVKXKk85+Wxzhpny5bNOpMcHx+vn3/+xQjTsTpw4ECSdrmjcqt+/fpq2769ypYtm2QfH/wpQED2Z12YFQIZFSAgZ1SK4xD4R4CAzDch0AIEZO/KT0D2ztrOSOZl0h+uX6+Y2TF6f90667Jpsz8zzN50803GmWDjbLBx6fSVV10lMxCn9/rlFyMob481LseO1bbPP9emTZvP9nlDhRvUtm071bmnrnLlypVeV+wPkQABOUTwDIuAQwIEZIcg6SYwAgTkwJSahaYkQEBOScWdbQRkd1yd7NU84/tYv/766quvrG7Pnu1t1876PbETY/300096dc6cJGelixUrpiHPDlWNmjWdGII+HBYgIDsMSncIeCxAQPYYnOHCXoCAHPYlZAF2BAjIdvQy15aAnDkvL48+ceKEJk54QS9OnapTp07pkksuUes2bdSsRXMVKlTIlakcPXpUbyxbpphZs88G8nsbN9bAZ55Rvvz5XBmTTrMmQEDOmhutEPCLAAHZL5VgHuEiQEAOl0oxT1cECMiusKbYKQE5RZaQb/xy50716/uovvzyS+uS6QcefEB9jM9ReaI8mZt5SXfM7NkaPXKU9fvliy66SCNGjdLtd9zuyfgMkr4AATl9I45AwM8CBGQ/V4e5+VGAgOzHqjAnzwQIyJ5Ri4DsnXVGR5o1c6ZGDB+hkydP6oorrtCYsc+p4o03ZrS5o8f98P33VlDfunWr1W/rNq31zODByp49u6Pj0FnmBQjImTejBQJ+EiAg+6kazCUcBAjI4VAl5uiaAAHZNdpkHROQk5GEdMNLxuXUo0eNtubQtm1b9X/icZ133nkhndPp06f18vTpGjd2nI4fPy7zkuvRz40hJIe0KhIBOcQFYHgEbAoQkG0C0jxwAgTkwJWcBScWICAn1nD3PQHZXd/M9D7txRc1yrik2bwL9egxo9W4SZPMNHf92C2ffab2xt2tjxw5Qkh2XTv9AQjI6RtxBAJ+FiAg+7k6zM2PAgRkP1aFOXkmQED2jJpLrL2jTnMkv4fjhMl/9umn6tCuvRWSG993n0YZQZ7LrRN0vP1LQPbWm9EQcFqAgOy0KP1FugABOdIrzPrSFCAgp8nj6E7OIDvKmaXOXnl5pp4dOtS3Z47PXVTikNy0WVONHP3PJeHnHsdndwUIyO760jsCbgsQkN0Wpv9IEyAgR1pFWU+mBAjImeKydTAB2Raf7cZfxMWpcaN7Zf7O14+XVae2wMQhedzz49WwUaPUDmW7SwIEZJdg6RYBjwQIyB5BM0zECBCQI6aULCQrAgTkrKhlrQ0BOWtuTrSKj49Xw3r1tWvXLpmPcXryqaec6NazPpYsWqz+/fopX758WrlmtcxHQfHyToCA7J01IyHghgAB2Q1V+oxkAQJyJFeXtaUrQEBOl8ixAwjIjlFmuiPzGcMvGTfmuupfV2n5irc9e8ZxpieaRoNODzyo9959V3fceYdefuWVNI5kl9MCBGSnRekPAW8FCMjeejNa+AsQkMO/hqzAhgAB2QZeJpsSkDMJ5tDhn2/9XM3+e5fqxUuXqPz11zvUs7fdmN+fWjVq6K+//tLIUaPUtHkzbycQ4NEIyAEuPkuPCAECckSUkUV4KEBA9hCbofwnQED2riYEZO+sE0Y6deqUESpr6vvvvlPXh7qq32OPJewKy79vLntDvXv10oUXXqh3172nIkWLhuU6wm3SBORwqxjzRSCpAAE5qQefEEhPgICcnhD7I1qAgOxdeQnI3lknjLR65So91LWrrrjiCuu3u7lz507YFbZ/H+jQUe+vW6devXupe8+eYbuOcJo4ATmcqsVcEUguQEBObsIWBNISICCnpcO+iBcgIHtXYgKyd9YJI7Vu2VIbN27SwGcGql2HDgmbw/rvxg0b1fr++1XUOHv84YaPlStXrrBeTzhMnoAcDlVijgikLkBATt2GPQikJEBATkmFbYERICB7V2oCsnfW5kjmHatrG5dXn3/++dqweZPy5s3r7QRcHK12zVra9fXXmjDxBdWrX9/FkejaFCAg8z1AILwFCMjhXT9m770AAdl7c0b0kQAB2btiEJC9szZHGmg8yunVua+qdZvWGjx0qCuDnzhxQm+9+aZ27tih77//QSeOH1fJUqVUq3Yt3Vypkitjmp2+ZqzraWN9FW+8UQsXL3JtHDr+R4CAzDcBgfAWICCHd/2YvfcCBGTvzRnRRwIEZO+KQUD2zvrQoUOqUqmyjhw5olVr1ujqklc7Pvi6997ToIHPaM+ePSn2Xa9+PY0dP145c+ZMcb+djea6zPWZ61z+9gpdW6aMne5om44AATkdIHYj4HMBArLPC8T0fCdAQPZdSZiQlwIEZO+0CcjeWb+9YoW6P9JNlYyzuK8tmO/4wO+/t05dOnfWyZMnZd7465JLLtHBgwf1n//8J8lY7Y3fPT9t/P7ZjddgI5zHxMSoW/fu6t23jxtD0Od/BQjIfBUQCG8BAnJ414/Zey9AQPbenBF9JEBA9q4YBGTvrEcOH6Hp06aph3GX557G3Z6dfP1snDGucXd161FL/fr3V8N7G1kh2Rzjw/Xr1a/vo9q3b581pPk4pq3btylHjhxOTsHqa+U77+iRhx5Wtdur6ZXZsx3vnw7/J0BA/p8F7xAIRwECcjhWjTmHUoCAHEp9xg65AAHZuxIQkL2zTrh79fSXZ+iuu+92dOC+vftow8cfa55xZrrElVcm6/vdtWvV+cFOZ7e/+/46lShR4uxnp96YQb1a1dtUqFAhfbp1i1Pd0k8KAgTkFFDYhEAYCRCQw6hYTNUXAgRkX5SBSYRKgIDsnTwB2RvrM2fO6Ibo8tbvczd/+omKGI9Dcur1999/6+aKN+rFaS/ptmrVUuz29OnTKnttGcXHx1v743busO6kneLBNjfeVKGi/vjjD63/6ENdVry4zd5onpoAATk1GbYjEB4CBOTwqBOz9I8AAdk/tWAmIRAgIHuHTkD2xvq7b7+1LoG++OKL9fGmjY4P+ueff6pAgQKp9mv+Lrl82XI6duyY7rnnHr0weVKqx9rd0bF9e33w/geaNGWy6tSta7c72qciQEBOBYbNCISJAAE5TArFNH0jQED2TSmYSCgECMjeqROQvbF+Y9ky9enVWzVr1tBU43fIXr8+3/q5mjRurKioKK15d62rZ3bHjx2nSRMnqkvXrur/+GNeLzUw4xGQA1NqFhqhAgTkCC0sy3JNgIDsGi0dh4MAAdm7KhGQvbGePHGSxo0dq4cefkiPGjfR8vJlXlZ9f4sW2rlzpyZNnqy7q1d3dfjlb76lnj16qF69epowaaKrYwW5cwJykKvP2iNBgIAcCVVkDV4KEJC91GYs3wkQkL0rSUJAzpcvrzZ9+ql3AwdspBeef14vTn1Rffr21SPdu3m2evO3wAOeeEKrV61Wg4YNNfq5McqVK5er469ZvVpdO3fRnXfdpclTp7g6VpA779C2nTZv3qxZMbNT/e15kH1YOwJ+FyAg+71CzM9vAgRkv1WE+XgqQED2jjshIHs3YrBHenLAAD3Q6UFXEczfGcdu367NmzZp5sszrWchJwx42WWXacbMl1XqmmsSNjn+13ysVHsjvPHyRoCA7I0zoyDgtAAB2WlR+ot0AQJypFeY9aUpQEBOk8fRnfuNZ+NWrXKro33SWXKBU6dOybyT9NMDn1b7jh2TH+DglkULFurxx1L/7W/RokU0f+HCFB8H5cQ0Nm7YoNb3t1K2bNmUM2dOJ7qkjzQEXn5lpm6tWjWNI9iFAAJ+FCAg+7EqzMnPAgRkP1eHubkuQEB2nZgBPBYYM2qUdYl1P+P3x12N3yG7/Tp69Kj279+vXV9/rdeXLNVa4znIx48fPztshQoVtGjpkrOfnXyz7r339GDHB3THnXfKDG+8EEAAAQSSCxCQk5uwBYG0BAjIaemwL+IFCMgRX+LALdD8DfKE5yeoR8+e6tm7l+fr37Vrl1o0bSbzcVDmK3v27Nq6fZvy5s3r+FzeefttdXv4EdWuXVuTX5zqeP90iAACCESCAAE5EqrIGrwUICB7qc1YvhMgIPuuJEzIpsDsWbM0ZNBgtWzZUs+OGG6zt6w1/yIuTvc2bGRd6m32YP4W2byRltOvmNmzNfiZQWrevLmGjxrpdPf0hwACCESEAAE5IsrIIjwUICB7iM1Q/hMgIPuvJszInsBnxh3CmxtncK+77jq9uWK5vc5stK5ft67xuKcvrR4mTHxB9erXt9Fbyk379X1US5cs0ZChQ9WqTeuUD2IrAgggEHABAnLAvwAsP9MCBORMk9EgkgQIyJFUTdZiChw5ckTly5azLm2O3fGFoqKiQgLz1JMDNO+116yx5y9coJtuvtnxedSqXkPffPONXn9jmaLLl3e8fzpEAAEEIkGAgBwJVWQNXgoQkL3UZizfCRCQfVcSJuSAQO0aNWX+FnjpstdV/vrrHegx812MGDZMM6bPsJ6F/OmWz5Q3X77Md5JGC/M/BERfV9a6e7X5HwJy586dxtHsQgABBIIrQEAObu1ZedYECMhZc6NVhAgQkCOkkCwjiUD/Rx/VksVLNHjIELVu2ybJPq8+tDEev7TBeAxTrdq1NOXFFx0f9tNPPlGLZs1VtmxZvbH8Lcf7p0MEEEAgUgQIyJFSSdbhlQAB2StpxvGlAAHZl2VhUjYF5sTEaNDAZ9T4vvs0ZuxzNntL2nzHFzt04MB+VahYURdeeGHSnf/99MnmzWrZvIWKFi1q/Q66WLFiKR5nZ+OMadM1Yvhwtbz/fj07fJidrmiLAAIIRLQAATmiy8viXBAgILuASpfhI0BADp9aMdOMC3xtPJO4Ts1a1qOVPt60URdccEHGG6dx5NYtW9XUCN3m6/zzz9djjz9u3RwrW7ZsZ1uZAfrhrl20d+/vem3+fCNIVzi7z8k3CTcBm/CCcQOwBs7fAMzJudIXAgggEEoBAnIo9Rk7HAUIyOFYNebsmAAB2TFKOvKZQLMmTbXls88cvcNz7Pbt1uObEi+1UqVKanhvI5khedvWz7V48WJdffXVemLAk7qtWrXEhzr2PuFO3YULF9ZHGzfw+2PHZOkIAQQiUYCAHIlVZU1uChCQ3dSlb98LEJB9XyImmEWB5W+9pZ7de6hkyZJauWZ1FntJ3mya8Xti8+ZbBw4cSLIzT548KnXNNXqw04Oqe889VmBOcoCDH3p2667ly5frkW6PqI/xe2teCCCAAAKpCxCQU7dhDwIpCRCQU1JhW2AECMiBKXXgFnry5EndVuVW/f7775prPG7pliq3OGZw/Phx7fp6l3EZ9W/W5dslrrxS5u+ME19q7dhg53Rkrsdc15kzZ7T+44908cUXn3MEHxFAAAEEEgsQkBNr8B6B9AUIyOkbcUQECxCQI7i4LE0TJ0zQ8+Ofd+1O0qEgnmCs5wVjXXXq1NGkqVNCMQXGRAABBMJKgIAcVuVisj4QICD7oAhMIXQCBOTQ2TOy+wL79+1TVeNs64kTJxw/i+z+7JOPsGf3HtWpVUvmM5DnLZivm43fP/NCAAEEEEhbgICctg97EThXgIB8rgifAyVAQA5UuQO52EnGXZ7Hjxuv4sUv04qVK1N9NJPfccxLqtsYj3TauHGT6tatq4lTJvt9yswPAQQQ8IUAAdkXZWASYSRAQA6jYjFV5wUIyM6b0qO/BMzfIje5t7Hi4uLUsmVLPTtiuL8mmMHkZMkjAAAKBklEQVTZxMyercHPDJJ552rzpmOFChXKYEsOQwABBIItQEAOdv1ZfeYFCMiZN6NFBAkQkCOomCwlVYFdu3apwT31ZN5c65XZs1Tt9ttTPdaPO3744QfdU7uOjh07pqkvvaSatWr6cZrMCQEEEPClAAHZl2VhUj4WICD7uDhMzX0BArL7xozgDwHz8UyjRo6y7vq89I1luuiii/wxsXRmYYbiVsaZ722fb1PDRo007vnx6bRgNwIIIIBAYgECcmIN3iOQvgABOX0jjohgAQJyBBeXpSUROH36tJo3baatW7bIfCzTa/Pn+T4km+H4wQ4djd8db7SC/durVip//vxJ1sUHBBBAAIG0BQjIafuwF4FzBQjI54rwOVACBORAlTvwi/3zzz/VtlUr7dix0/chOXE4Llq0qHXX6iuvuirwNQQAAQQQyKwAATmzYhwfdAECctC/AQFfPwE54F+AAC4/HEKyGY47dXxAGzZsEOE4gF9SlowAAo4KEJAd5aSzAAgQkANQZJaYugABOXUb9kSuQOKQfEWJEpo0ebLKXFfGFwv+7bff1KdnL23evJlw7IuKMAkEEAh3AQJyuFeQ+XstQED2WpzxfCVAQPZVOZiMhwL/hOTWxuXWO5QzZ051695NDz3yiPXew2kkGWrp4sUaOmSIDh48RDhOIsMHBBBAIOsCBOSs29EymAIE5GDWnVX/V4CAzFchyAJHjx7VmFGjNXvWLIuhbNmyGjNurEqVKuUpy77f92nAk0/q3bVrrXGr16ihYcOHqYjx22NeCCCAAAL2BAjI9vxoHTwBAnLwas6KEwkQkBNh8DawAps2btJj/R7Vnj0/K3fu3OrcpYvatG3jekD9+++/tXTJEj0/brzMM9r58uXVwEGDdG/jxoGtBQtHAAEEnBYgIDstSn+RLkBAjvQKs740BQjIafKwM0ACZlgd8ewwzZs3z1p1rly5VKduXbVr307X33CDoxI/fP+9YmbHWOH40KFDVt/Vbq+mEaP+eU6zo4PRGQIIIBBwAQJywL8ALD/TAgTkTJPRIJIECMiRVE3W4oTAp598opkzZmjt2ndlPjvZfEVHR6vF/S110003yXzUUrZs2TI91C8//6xt27Zp0cKFWv/B+rPtK954ozp07GCF8bMbeYMAAggg4JgAAdkxSjoKiAABOSCFZpkpCxCQU3ZhKwI/79mjV+e+qgXz51uXPyeIXHjhhSpb9jqViy5v/CunK6+8SnnyRBn/8shIzoo3HtEUHx+vX375RbHbYxUXZ/yLjdOBAwcSurCObdiwodq0a6try/jj7tlnJ8cbBBBAIMIECMgRVlCW47oAAdl1YgbwswAB2c/VYW5+EIg/Fq/lb71lnFFeYwXdX3/9NUvTKliwoBWoq1a9TU2aNVX+/Pmz1A+NEEAAAQQyJ0BAzpwXRyNAQOY7EGgBAnKgy8/isyCwf98+46xwnHV2ODY2Vr/v/U1HjRB9zDhzrDNnlDsqSucZZ5MLFSqksuXKWaE42jjbXPzy4lkYjSYIIIAAAnYFCMh2BWkfNAECctAqznqTCBCQk3DwAQEEEEAAAQQiTICAHGEFZTmuCxCQXSdmAD8LEJD9XB3mhgACCCCAAAJ2BQjIdgVpHzQBAnLQKs56kwgQkJNw8AEBBBBAAAEEIkyAgBxhBWU5rgsQkF0nZgA/CxCQ/Vwd5oYAAggggAACdgUIyHYFaR80AQJy0CrOepMIEJCTcPABAQQQQAABBCJMgIAcYQVlOa4LEJBdJ2YAPwsQkP1cHeaGAAIIIIAAAnYFCMh2BWkfNAECctAqznqTCBCQk3DwAQEEEEAAAQQiTICAHGEFZTmuCxCQXSdmAD8LEJD9XB3mhgACCCCAAAJ2BQjIdgVpHzQBAnLQKs56kwgQkJNw8AEBBBBAAAEEIkyAgBxhBWU5rgsQkF0nZgA/CxCQ/Vwd5oYAAggggAACdgUIyHYFaR80AQJy0CrOepMIEJCTcPABAQQQQAABBCJMgIAcYQVlOa4LEJBdJ2YAPwsQkP1cHeaGAAIIIIAAAnYFCMh2BWkfNAECctAqznqTCBCQk3DwAQEEEEAAAQQiTICAHGEFZTmuCxCQXSdmAD8LEJD9XB3mhgACCCCAAAJ2BQjIdgVpHzQBAnLQKs56kwgQkJNw8AEBBBBAAAEEIkyAgBxhBWU5rgsQkF0nZgA/CxCQ/Vwd5oYAAggggAACdgUIyHYFaR80AQJy0CrOepMIEJCTcPABAQQQQAABBCJMgIAcYQVlOa4LEJBdJ2YAPwsQkP1cHeaGAAIIIIAAAnYFCMh2BWkfNAECctAqznqTCBCQk3DwAQEEEEAAAQQiTICAHGEFZTmuCxCQXSdmAD8LEJD9XB3mhgACCCCAAAJ2BQjIdgVpHzQBAnLQKs56kwgQkJNw8AEBBBBAAAEEIkyAgBxhBWU5rgsQkF0nZgA/CxCQ/Vwd5oYAAggggAACdgUIyHYFaR80AQJy0CrOepMIEJCTcPABAQQQQAABBCJMgIAcYQVlOa4LEJBdJ2YAPwsQkP1cHeaGAAIIIIAAAnYFCMh2BWkfNAECctAqznqTCBCQk3DwAQEEEEAAAQQiTICAHGEFZTmuCxCQXSdmAD8LEJD9XB3mhgACCCCAAAJ2BQjIdgVpHzQBAnLQKs56kwgQkJNw8AEBBBBAAAEEIkyAgBxhBWU5rgsQkF0nZgA/CxCQ/Vwd5oYAAggggAACdgUIyHYFaR80AQJy0CrOepMIEJCTcPABAQQQQAABBCJMgIAcYQVlOa4LEJBdJ2YAPwsQkP1cHeaGAAIIIIAAAnYFCMh2BWkfNAECctAqznqTCBCQk3DwAQEEEEAAAQQiTICAHGEFZTmuCxCQXSdmAD8LEJD9XB3mhgACCCCAAAJ2BQjIdgVpHzQBAnLQKs56kwgQkJNw8AEBBBBAAAEEIkyAgBxhBWU5rgsQkF0nZgA/CxCQ/Vwd5oYAAggggAACdgUIyHYFaR80AQJy0CrOepMIEJCTcPABAQQQQAABBCJMgIAcYQVlOa4LEJBdJ2YAPwsQkP1cHeaGAAIIIIAAAnYFCMh2BWkfNAECctAqznqTCBCQk3DwAQEEEEAAAQQiTICAHGEFZTmuCxCQXSdmAD8LEJD9XB3mhgACCCCAAAJ2BQjIdgVpHzQBAnLQKs56kwgQkJNw8AEBBBBAAAEEIkyAgBxhBWU5rgsQkF0nZgA/CxCQ/Vwd5oYAAggggAACdgUIyHYFaR80AQJy0CrOepMIEJCTcPABAQQQQAABBCJMgIAcYQVlOa4LEJBdJ2YAPwsQkP1cHeaGAAIIIIAAAnYFCMh2BWkfNAECctAqznqTCBCQk3DwAQEEEEAAAQQiTICAHGEFZTmuCxCQXSdmAD8LEJD9XB3mhgACCCCAAAJ2BQjIdgVpHzSB/wcAAP//6dN0kwAAQABJREFU7d0HeBVV+sfxl5pIE1iQ6uKCCAoEUJGOjd57bwJSFATp0jsiHWnqrkAggIhI7wrScZUSigUpriK7INIUCfV/zvC/MUACyWTm3jsz33keTHLvzJlzPu/EJ787M2eS3FKLsCDgUYG8ufPIzZs35bsfjkjy5Mk9qsCwEUAAAQQQQMCtAh1ebS8bN2yQme+/JxUqVnTrMBkXApYJJCEgW2ZJQw4UICA7sGh0GQEEEEAAAQTiLUBAjjcVKyJgCBCQORA8LUBA9nT5GTwCCCCAAAKuFyAgu77EDNBiAQKyxaBWNnfp0iX5888/5cqVK3Lt6jVJGZJSQkNCJVXqVJI6dWord+XZtgjIni09A0cAAQQQQMATAgRke8t89epV0X+zR6m/16OioiRJ0qQSEhIioaGh8vDDD0tS9TOLswQIyEFSr3Pnzknk/kg5eCBSIiMPqO/3y+nTp+PsXY4cOaRQoUISVjhMCoWpf+r7tOnSxbk+b8QuQECO3YVXEUAAAQQQQMAdAgRk6+p47do1+e677+RgpPp7Xf3dfkD93f7dd9/LjRs3Yt1JqlSppEDBghIWpv5mDyssBdXXxx57LNZ1eTF4BAjIAazF2V9/lYULFsgniz+RH3/88Z6ePPTQQ5ImTRrjU6gUKVOqs8hX1SdTV+TiRfUplfqE6u7l8ccflwYNG0qDRg2NT6zufp+f7xUgIN9rwisIIIAAAggg4B4BAnLiaqnD72cbP5OIuXPlyy+/FH3GOOaizxCnT59eQtQZY33m+Jaa/FVf/an/XbhwIeaqxvfp1AmtChUrSMvWraWgCs8swSdAQA5ATfbt3Svhc8Jl9apVoj+J0osOw75PmAoVCjPODOdSnzAlSZLknh7qWZePHj0qB9SnVwf02ebI/XL48GG5GnX7F1Zf0lG7dm31i9dK8uXPf8/2vPCXAAH5Lwu+QwABBBBAAAH3CRCQzdVUX925aOFCiZgXISdPnoxu5B+5c6uzwepvdXU2uFDhwvLUU08Zf8dHrxDjm7Nnz6qzzQeMM82+K0TPnDkTvUbRp4tKy5atpEq1qpIiRYro1/kmsAIEZD/6f7H5C5k0YYIKtJHGXvUnTuXLvywtWrWSEiVLJuoehevXr8uWL76QuSp4b9myJXpUxZ57Tnr26inPFisW/Rrf/CVAQP7Lgu8QQAABBBBAwH0CBOSE1VRf4TnunbGydNnS6JNP+qRVy5YtpE69eom+SvPEiROyICJCFn20SF0VetHoXObMmaRV61ekXftXCcoJK5ctaxOQbWG9s1F94/7I4cPl40UfG2/oyzAaNW4szZo3kxw5c965sgU/HT92TOaGz1WXbi+W33//3TgL3aZtG+nRs5e6/CPEgj24pwkCsntqyUgQQAABBBBA4F4BAvK9JnG9smrlShk8cJDos8f6Ks7nX3hBWqoTWeWeLxfrVZ1xtROf1/VEvMuWLjVObn377bfGJgUKPCVjx4/nCtD4ANq4DgHZRlzd9I7t26V3r95y6pdfjFmou/foYVxK4Y+g+scff8j7M9+TGdOnG5MH5M6TW8apX7rCRYrYPGrnNE9Adk6t6CkCCCCAAAIIJFyAgPxgMx2IBw8YKKvU7Y96KVu2rAwZPsxvE2pt37ZN+r/VT3766SfjDPIbXbtKh04dJVmyZA/uPGtYLkBAtpz0doP6xvzRI0fKvLnzjBfC1D0KOpzmeTyPTXuMu1l9r3LP7j3khx9+MC7j7tCxg3Tr3l2SJ08e90YeeYeA7JFCM0wEEEAAAQQ8KkBAvn/hP//sM3mrT1/5VV1arWed7j+gvzRu2vT+G9nw7uXLl2XM6NF3ZIcJEyeIvueZxb8CBGQbvHU4bt+2nWxXZ4/1DffB8CmQnvV60oSJ8sH778utW7ekWrVqMmHyJM+HZAKyDb8ANIkAAggggAACQSNAQI67FEs++UR6q1sQ9d/GJUoUl7fHjpVHH3007g388E7Mq08zZswoEQvmyxP58vlhz+zCJ0BA9klY9DVmONY33M+aM0eeVLPbBcvybzU9/asqvOv7ognJIgTkYDky6QcCCCCAAAII2CFAQI5dNWY47vZmN+n8xhuW32cc+54f/Kr+O72b6s/mTZuFkPxgL6vXICBbKKrDcYd2r8o2dR+BDsfz1dTwufP4/5LqBw0pcv9+adm8RXRInjhlsmfvcSAgP+ho4X0EEEAAAQQQcLIAAfne6n26ZIn06tHTOHPcq3dv6fhap3tXCvAr+urP1zp2/CskL1wgTzzxRIB75Y3dE5AtqnPUlShp365d0Idj33AJybclCMi+I4KvCCCAAAIIIOBGAQLynVV1Qjj29ZiQ7JPw71cCskXeA/r1lwXz5wf1meO7hxozJHdRl3F06/7m3au4/mcCsutLzAARQAABBBDwtAAB+a/yHzxwQOrWrmM83SVYzxz/1dvb38UMyTnV42FXr1srqVOnvns1frZQgIBsAea2rVulVYuWkjJlSvlUPVQ8/5NPWtCqf5rYvWuXNGvS1Jjdeonqe8GCBf2z4yDZCwE5SApBNxBAAAEEEEDAFgEC8m1WHTRrVa8hR44ckdavvCIDBw+yxduORnXfG9StJ4cOHZJmzZvJsBEj7NgNbf6/AAE5kYfCpYsXpUqlynLq1Cnp3ae3emZZ8N3D8KAhjhw+XD7814eSV93XsHzlCiPoP2gbt7xPQHZLJRkHAggggAACCMQmQEC+rfLO22PkvZkz1fxAuWXlqtUSEhoSG1fQvvb9d99JTRXwr127JuHz5krpMmWCtq9O7xgBOZEV7NOrlyz+eLEUKVpEFi1e7MjJrvT909WqVpXjx45JR/VQ8l59+iRSxTmbE5CdUyt6igACCCCAAAIJFyAgi+zds1ca1q9v4C1e8okULlIk4ZBBsMXM6TNk7DvvSLbs2WWNutQ6bdq0QdAr93WBgJyImm76/HNp16athISEyKo1qx39IO99e/dKg3q3/8fx8Sc68BdNhIxzNiUgO6dW9BQBBBBAAAEEEi7g9YAc80RQJzVbdU81a7VTlxs3bhh/r+/ft08aNmwoo98Z49ShBHW/CciJKE8Nddb18OFvpP+AAdKmXdtEtBQcm/ouPSlbtqzMnhseHJ2yuRcEZJuBaR4BBBBAAAEEAirg9YC8UE2i219Npps3b15Zvmql428lPHb0qHHl57Wr1+SzzZskV65cAT2+3LhzArLJqn71739LowYNJVOmTLJ1x3bH/7JphosXLkrJ4sVFP8954+efOfqMeHzLSkCOrxTrIYAAAggggIATBbwekKtVriLffvutTJ4yRarXrOHEEt7T577qLPjHiz6WtuoEXT91oo7FWgECsknPrp27yMqVK+X1zp2le88eJluJ/2Z69rpbt25JaGho/DcysWb/vm/JwoULpVXr1jJoyGATLThrEwKys+pFbxFAAAEEEEAgYQJeDshf7t4tTRo1Vo9hzWyc0EqRIkXC8CxY+8KFC/JfNZlvvvz5LWjtdhOHDh5SE3ZVl3Tp0smO3bvkoYcesqxtGhIhIJs4Ck6fPi1lS5U2AuuW7dska9asJlqJ/yY7d+yU/m+9JfXU5AKvd+kc/w1NrPntN99ItSpVJU2aNMYvnNufs0ZANnGQsAkCCCCAAAIIOEbAywG5c6fXZM2aNfJG167S9c1ufqnZ9evXZcXy5bJt6zbZp+4VPnH8uDFz9obPPrN0//qxT3v27JGRo0ZK46ZNLW3b640RkE0cAZMmTJR31WUaVapUkakzpptoIX6b6E+c3h45ShYtWmRs0L1HdxWQu8Rv40SspS8d15eQDx02TJq3bJGIloJ/UwJy8NeIHiKAAAIIIICAeQGvBuT//ve/Uq50GUmSJIlx9viRRx4xjxiPLW/evCnLli6VKZMmy3/+8x911jqTvPDii/Liiy9J6bJljJNP8Wgm3qusWLZcuqngn1+dmV61dk28t2PFBwsQkB9sdM8aZUqWMp57vOCjhfKcumfX6kV/8vTRgoUyedIkOXv2bHTz/grIq1etki6vd5ZChQrJ0hXLo/fvxm8IyG6sKmNCAAEEEEAAAZ+AVwOy75FI1dWlyJOnvuvjsOXrTz/9JK+qJ9scOXLEaL9lq1bSt99bxpNubNmhalQ/D7lsqVJy5syvskz9vV5Q/d3OYo0AATmBjvrTqNIlShrX/O+N3J/ArR+8+ro1a+Ud9Xyz/6n9PPPMM7Jb3TuhfwH04q+ArCfpKvRUAeMTtwOHDjnuQeoPVv5rDQLyXxZ8hwACCCCAAALuE/BqQG7f7lX5bONGmTR5stSoVdO2wv7444/SrHET4+SZvid4zNixUrFSRdv2F7PhPr16yeKPF8vgoUNEh3IWawQSFZB37dwl335zWGrXrSvp06e3pkdB3sqG9eulY/sOUrp0aQmPmGdpb7VnuzZtpPUrraXtq69KhgwZpHu3N43LNfSO/BWQ9b6qVqos3333nSxeskSKPu3eZyITkHW1WRBAAAEEEEDArQJeDcglnysuet6gzzZ9Lo/94x+2lFffX9xUheP//e9/kipVKuNMbu48eWzZV2yNzgufK4MHDZK69erJ2PHjYlvFca+Fz5mj5nfKJi++9KIEYlI1DZaogHz16lWpqqZOP/nzz1JFPRO4SdMm8myxYsaZR8dVI54dnjBuvEybOlXseNC4nqX6jz/+uOMehXHqbPKM6TOM3vkzIPumj3f7J1IE5Hge+KyGAAIIIIAAAo4U8GJA1sFYB+R06dLKnv37bckmv/zyi9StVVtd4nzGOC7GqL/Z6zds4NdjJFKNrY7qg37G89oN6/26b7t2dvjQYWOGbv0o3YaNGkqDRo3k0UcftWt3sbabqICsW9yxfbu0aNY8uvHceXJLY/VJSp16dSVjxozRr7vlm1datpItW7bI9BkzpFKVyrYPyzchmN6RPwNyxNx5MmjgQKmjrg4YN2G87eMM1A4IyIGSZ78IIIAAAggg4A8BLwbkjRs2iB53KXWP7tz5EbYwD+jXXxbMn2+0XVWdKHx3+jRb9nO/RvXJyrACBUXPXxR56KBxFvt+6zvlveFDh8nsWbOiu1u2bFk1U3cTebl8eb+cVU50QNY976pmVl65YmX0IPQ3+pR4ZRUgGzdpKsVLFLflk5s7duinH54t+rScO3dOtqrHO2XPkcP2vQYqIPs+kXr88cdl3cYNto8zEDv4+aef5YVy5YzHdX2y9FMpUqRIILrBPhFAAAEEEEAAAdsEGtVvIF999ZX6m7yxetTRm2L3bM62DSQBDU8cP0GmvvuudOjYUXr37ZOALeO36in1XOMXyz1vzBOkZ8ne9eVuyaSetRyIpWa16nJIzRm0cNFHUuy55wLRBcv3eeniRanw8svGBGQxG9dnles3qC8NGzeWXLlyxXzL0u8tCcj6uvsKL71sXB4cW+9yPfaYNFG/lPpsZKAOntj6ldDXflWXUBQv9pw8/PDD6nKNfQnd3NT6gQrI+hOpp/LdfqD5dz8ckWTJkpnqf7BuNFo9Putf//ynEY59fXxJ/SK+O22qhIaG+l7iKwIIIIAAAggg4EiBixcuyqvt2hmP7vQNIHny5MYViR06dfK95Mqvr6lgvG7tOpn87hSpXqOG5WMcOniI6Htl9aLn6omYv0C+VCH522+/laM//GB8CFGkaFF5Wk24a/c8Tf369JWPPvpIho8YIU2bN7N8rIFq0PcYq7j2r68O0GeVy5evYPmEwpYEZN3xWf/6UEYMHx7XGKJf/0fu3FJUHzDqYNIHTt4nnhD9y+qERc9S99LzLxjXwW/eusUvXQ5UQNaD0zNZX7582bhkI3Xq1H4Zrz928s/3P5DRo0bFuqsaNWvIJPWMaxYEEEAAAQQQQMDJAs3VVZw7d+6MdQjjJ06Q2nXqxPqeG15s3aKlbN26VWaHz5Gy6mpBK5fffvtNSpcsKVejrhrN1qxVS75TwVhPbnv3ok+qTZ85U0qULHH3W5b9rE/6/PODD4zHSr3avr1l7Qa6IT03U4umzeI8hn3901ctFyhYwMiXRZ9+2viaLXv2RF29fE9A3r9vnxw9etS3z3h/vXHjhkyaOEn+qy45SMiSMmVKI3D+XZ0mf+yxXKK/pkmTJiFN+G1d/Yin8WPH+fVG+EAG5GJPPyP6fwL9BwyQDBkz+M3Zzh3dvHFThg8bJpcuXYp1N/oymS/Uhx85cuaM9X1eRAABBBBAAAEEgl3g4IEDUqtG3I82ypotm/To2SPYh2G6f9OnTpPjaoZpOy473qaCdysVwGMu+fPnl3LPP6/mX8ogW7dslV27donORnrRJwJ1UC+pznjasfguJ9dX7HZ5o4sduwhYm6fVVcrjVPa6efNmgvqgbyPQZ/b1SVkdmvUzohNyheg9AXmwmphpnpqgiSVugQIFCsjyVXfecx332ol7J5ABWT/vWX8o4LVlhvqkr2LlSl4bNuNFAAEEEEAAAZcILIiIkAH9B7hkNOaH8cmnS4wrVs23cO+W8+dFyEB18si3VK5cWSZOmSz6pJ9v0ZMYt2zeIvpWvqdVSPt4ySe+ty39Ou3dqTJhvHsn1LUCS98qqvNb/QYNjImk9SO57rfcE5CXfPKJbN+2/X7bxPnel7t3i57yPKGLPmv3sHqOsp71Wv/7m/oX+tBDiTo1ntA+xGf9i+qG8c8/+8y4LHzt+nXx2STR6wQyIPvOIJdTl6ZkcMmM5NeuXZPVq1bdty5z1fOtS6nnXLMggAACCCCAAAJOFHjQ/ZtJkyaVmrX0GeYkThzeA/u8VT1x5uzZs7acQX571Gj54P33jT7oDLNZ7Svno/deeThm9Nvy/nvvRffVjrCuG/edQdbf16pdW39xzXJNzYm0ceNG0XMjJXTRj/gqUkSfQb59W6/+Pt3D6eLVzD0BOV5bxbKSPhBbq0cgxWfJkiWLugdZXSOu/hVRnS6opicPCQ2Jz6YBXcd3D/Lf//532bTlC7/0JZAB2a33ILdp3Vq+2Bx7/fSxuUXNUO6U++L9chCyEwQQQAABBBBwlMDvv/8upYqXiHMCXT0T8JixYx01poR0tpU6e7tt2zZb7kHu9sYbsmL5CqM7+vm8cc1L5MsNvn6PHDVSTSrV1PejZV+j70F+q6+82qGDZe0GQ0NDBw2W8PDweHUlX7580ZdU64z5j9z/EP1BkJnFkoAcFRUlVSpVlh9PnIizD/r5VXXr1ZNixZ+TbOq+BycuZ06fkRJq+vQMGTLIV3v3+GUIgQrI+kyrnsVaX/P//dEfXDWL9ZEjR6Rpo8bG/dUxi6hD8fSZM4xnrMV8ne8RQAABBBBAAAGnCSxZvFh69+odfZmvr/85c+aQBYsWSXY1kZFbl05qsqr16zcYTyepWq2apcOMOYP1U089KStWr46z/efLlJGffz5pvN+xU0fp1cf6R04NeKufLFiwQIaqOXaat2wRZ1+c9sbBgweltrqPXk/WFduiL5OuWbOmVKlWVQqrR7WmTZs2ttVMvWZJQI7r2vfM6nlgDRs1lAaNGhkTcZnqYZBtVDSssOhLrXfs3iX6bKPdS6AC8qGDh6Rm9erq05fcsvHzz+wept/bP6Embpiq7tn4dMkSY99ly5WV1zt3ds3z4/wOyg4RQAABBBBAIOgEvti0Wbp37y7nz52Th9Tti3rm6te7dHbsyar4Ao9XZ8enT5uu/rZ7Xbr37BnfzeK1nr68Wl9mrRf9LN7Pv9hsfB/bf15t2864PVO/10SdPR6hziJbvdSpVVsi9++XCBWS7Zwt2+p+3689fYKugTqxum/vvY/VLaQm3NKPd9KP77JrYudEB+Sff/pZKpYvL/ossm954cUXpFHjJvLiSy+KnnrbTUvLZs1lu7rxfub770mFihVtH1qgAvLC+fOlf7/+6v6UWjJx8iTbxxmoHeTNncc4S66f9cxl1YGqAvtFAAEEEEAAAbsEOrzaXjZu2OC3v13tGkdC2l2vnoHcST0LWV/BOntu/C7RjW/7ei6bLq93NlbXj3Has//eEOdrq2f3HtEnY3qooP6aCuxWLvqKzzB1q6q+R3f/wQO2BUYr+xyfthap5zq/pZ7v7Fv042Zr16lt5Ev9SCe7l0QHZN8vnT6b2lCdKW7QsIGrH5EzdswYmTljpnG2sbsfpscPVEDu3/ctWbhwoQxQs5q/0raN3cdhwNonIAeMnh0jgAACCCCAgB8EfH+r++vkjh+G9MBd6EmDy5YqLenVJMBf79v7wPUTssJPP/0kL5Z7PvrSX30Psr4XObalT69esvjjxcZbk6dMkeo1a8S2munX9GXItarXcNUVn+fU1Q7lX3xJzp8/b1w63aRJE6lWo7o8aOZp04ixbJiogLxzxw758F8fqksGmhjP/vLCGbi1a9bI651eU+MtJ7PmzImF1NqXAhWQa6r7NQ4dOiwffbxIni1WzNpBBVFrBOQgKgZdQQABBBBAAAHLBbwYkDVi8WeLya+//mpMohVXgDWL3faVNrJ50yZj87HjxxnzLMXWVsz11qvZmPM8nie21Uy/5sYrPieMGy+X1O2sjZo0lvxPPmnaJjEbJiog65um9fTmXlp+OXlSypYu47eJunwz02njTq91kp69e9vOHXUlSsIKFjQuPY48dNC4Z8X2nQZoBwTkAMGzWwQQQAABBBDwi4BXA7IvnE6Z+q5UU/PqWLnEfHqPfhzqrPB7T5rpy56LP/usmrvokujbT/81a5aVXTDa6qcuQ/5IXY48cNBAad3GHVd8BkO+TFRAtrzKDmmwRLHn5MyZM2LX88xiMvj+p6Zfq1KlikydMT3m27Z8r+9T0ft9Un1qs3JN3DPz2bJzPzdKQPYzOLtDAAEEEEAAAb8K+P6W9NIl1hp42rvvyoTxE6RO3boybsJ4S811iOvYvoNxb7duWLev9xNz+URdWt1bXWKtFzuuyLxx44Y8X6asnDp1SharSWf1835ZrBEgIJtwfOftMfLezJnGw7gnTJpoooW4N9G/cJcvXzZmG1yzeo2MHjUqemV9tr7/gAFSqXIlSa8eNRUaGmr6+V7Rjcbyje/ZcXpfbdq1jWUN97xEQHZPLRkJAggggAACCNwr4NWArCcSfkGd3dUTBm/ftVMyZsx4L04iXrl+/br0VDOE62cip0uXVkaOHi2V1cmsK1euyOcbP5NevXrKzRs3ZZR6vZ567rTVy7o1a+W1Tp0kd57coi/f9tpVvVZ7xmyPgBxTI57fn/xZ/8I9bzwbePvOHfK3TJniueWDV3uza1dZvmz5g1dUa1SuXFmmqef2Wrkc/eGoMSu5fhTAjl27JN3D6axsPujaIiAHXUnoEAIIIIAAAghYKODVgKwJfY9Z6qnO5HZ6/TULVW83pR9H9O7kKRIxb56cPXtWUoakNEKxDqt6tuXuPXpIafUsZDuW5mryqp07d8mgIYOlVevWduzCs20SkE2W3vc/m+49uqvnyXUx2UrwbTZ00GAJDw8XPWPciNF/nb0Ovp5a0yMCsjWOtIIAAggggAACwSng+5vVa5dY62r47hXOlj27fKFmm06WLJktRdKPWzp+/LicOvmLpEmbRgoWLCQhoSG27Es3euTIEalcoaLoxx/t2L3LNY93sg0sgQ0TkBMI5lt9+7Zt0rJ5C8maNat8sW2rK56h+/vvv0up4iXkjz/+kNVr10i+/Pl9w3XtVwKya0vLwBBAAAEEEEBACXg5IOtbFyu8XF6OHzsmM9TtkRXVbYpuWAap2yAj5kVI8xbNZejw4W4YUlCNgYCciHJUePllOXb0mIwYOUKaNGuWiJaCY9Op6vlsEydMlGLPPScLF30UHJ2yuRcEZJuBaR4BBBBAAAEEAirg5YCs4eeo2aOHDR2mzuoWlCXLltp2FtlfRdb3VleuWFH+/PNPWacm1n087+P+2rVn9kNATkSpV61cKW907mJc3rBm3VrJkTNnIloL7KbfHD4stWvWEj3hQMSCBVKiZInAdshPeycg+wma3SCAAAIIIIBAQAS8HpD1lZFVKlaSk+pRrfqe4Ne7dA5IHazYqT4j3qJpU+Pe4+rq0VWT1SOsWKwXICAn0rTLa6/L6tWrpWTJkjJ3foQjZ5DT903UUeH4m2++kZYtW8rgYUMTqeKczQnIzqkVPUUAAQQQQACBhAt4PSBrsZ07dkjzps2MGa2XLl8m+dWjTJ24hM+ZI0MHD5FMaoLgtRvWSwb1VBsW6wUIyIk0/e2334yb5PXMdUNUsGyhAqbTlonqGXFT1bPi/v73v8tqdSZcz2DtlYWA7JVKM04EEEAAAQS8KUBAvl33IQMHydy5c+Wpp55Ul1ovM8Kyk46IEydOSLXKtx8j5cUJ1/xZKwKyBdrr166TTh07GsFy5ZrV8thjj1nQqn+aOBAZKfXq1BU9Tb2+7/jZYsX8s+Mg2QsBOUgKQTcQQAABBBBAwBYBAvJt1suXLxsB8z//+Y90Vk+geVM9icYpy40bN6RJo8by9VdfSe06dWT8xAlO6boj+0lAtqhsb3btpp5fvExyqvuQF3y0ULLnyGFRy/Y1o6eIb9a4ifHctrbt2ko/NSOe1xYCstcqzngRQAABBBDwlgAB+a96f/Xvf0vjho1E38vrlEl2dTju3q2brFyxUh555BFjYq50D6f7a1B8Z7kAAdkiUv2IpFYtWsi+vfscEZJjhuNyz5eTme+/LyEh9j2vzSJmy5shIFtOSoMIIIAAAgggEEQCBOQ7i+G7j1e/GuwhOWY4Tps2rcyZGy6FixS5c0D8ZLkAAdlC0kuXLklrdQ9ysIdkwvFfRScg/2XBdwgggAACCCDgPgEC8r01nTN7tgwbcntS2mANyXeH49nhc6RI0aL3DoZXLBcgIFtMendIDo+YJ7ly5bJ4L+ab049zatWipXFZtZfPHPsECcg+Cb4igAACCCCAgBsFCMixVzVmSB48dIi0bNUq9hUD8GrUlSjp3auncVl1mjRpjDPHhGP/FYKAbIO1Dsk6hO7ft09SpUolb/XrJ02bN7NhT/FvUn8K9cF778ukiRNFP9apXLn/v6w61HuXVcdUIyDH1OB7BBBAAAEEEHCbAAE57orOmTVLhg0dZqxQsWIFGTFqlPxNPUIpkEvk/v3SUz2v+egPR4VwHJhKEJBtctcheWD//rJi+QpjD2XKlJHR74yR7Nmz27THuJs9dvSo9OrZ07j0W6/VtFlTGaCmug/xeDjWFgRkrcCCAAIIIIAAAm4VICDfv7LLli6VwervYv23u36u8LARw6VqtWr338iGd69evSpTp0yRmTNmij6xlefxPDJx0mQpULCADXujyfsJEJDvp2PBe2tWr5ZBAwaKfl6yvrm+34D+Ur9BA0maNKkFrd+/CX2meO6ccBk3dqxERUVJtmzZ5G0V0suULXv/DT30LgHZQ8VmqAgggAACCHhQgID84KKfOnVK3urdR7Zu3WqsXL16dRk4eJBkypz5wRtbsMbBAwekr9r/N998I0mSJJG27dpJd3UWmZNZFuCaaIKAbAItoZuc/fVXGageobROPS9ZLznUI6Cat2guDRs3lvTp0ye0uQeuf/r0aVkQMV8WzI+QM2d+Ndav36C+Oms8UNKmY1r4mIAE5JgafI8AAggggAACbhMgIMe/ogvnz5eRI0aKfmZyihQpjDPJrVq3smXm6OvXr8uG9euNk1m7d+82OqnnLRo7fpw88+yz8e80a1ouQEC2nDTuBlcsWy4T1T3AP544YaykH6tUo2YNNSlAa0sun/j6668lXM3Kt3bNWtG/dHrJly+f9OzdS156+WXjZ/5zpwAB+U4PfkIAAQQQQAABdwkQkBNWz59/+llGjRyhwusGuXnzprFxWFiYtGjVUqqpM8uJfSzq2bNnZeH8BTI/IkL++9//Gu2nTp1a3QLZTLq+2U0eeuihhHWYtS0XICBbTnr/BvWDybd8sUXC58yWzZs2R6+cWV3CEVa4sISFFZJChcKkUOEwyZgxY/T7d39z5vQZiYzcLwciDxhfDx44aMxMrddLliyZVKxYUVqqT7yeK1787k35OYYAATkGBt8igAACCCCAgOsECMjmSnry558lYl6EfLRwoZw/f95oRIfjJ596Uv29XlgKqb/Z9dfceXLHeeukno36sHqCzIEDkbf/ZlcTcB1VcwPpPKAXfZ9xC/WI2Dp16xoTchkv8p+ACxCQA1iCH3/8UeaFh8uST5ZE/+LF7E6WLFmM+5b1L2PKkJRyNeqqXIm6IhcvXIi+dDrm+pkzZ5KGjRpJE/UJlL7fmOXBAgTkBxuxBgIIIIAAAgg4V4CAnLja6ZC7YvlymTd3rgq6B+5pTJ/9zfzII/JQaKhxz/DNGzflzytXJEr9++WXX6Kv6vRtmDx5cnnhxRfVFaQtpbSaxJcl+AQIyEFQE/0pkg7LB/arT5fUJ0yR6qzwoYMHjfsf4uqenvCrYMGC6tOrMHXmWZ1xVmedcz6aM67VeT0OAQJyHDC8jAACCCCAAAKuECAgW1fGixcuysGD6upN/Td7pP67/YCcPHkyzh3oSXnz5s0bfbZZn3XOlz9/oi/TjnOHvGGJAAHZEkbrG9H3PJxSnzpd/vNP4xOoq1evGWeRQ0NCJVXqVMYZYj3LHUviBAjIifNjawQQQAABBBAIbgECsr31OXfunJxX/66oM8ZX1NnmZMmSGgE4RJ1R1leDck+xvf52tE5AtkOVNh0jQEB2TKnoKAIIIIAAAgiYECAgm0BjE08LEJA9XX4GT0DmGEAAAQQQQAABNwsQkN1cXcZmhwAB2Q5V2nSMAAHZMaWiowgggAACCCBgQoCAbAKNTTwtQED2dPkZPAGZYwABBBBAAAEE3CxAQHZzdRmbHQIEZDtUadMxAgRkx5SKjiKAAAIIIICACQECsgk0NvG0AAHZ0+Vn8ARkjgEEEEAAAQQQcLMAAdnN1WVsdggQkO1QpU3HCBCQHVMqOooAAggggAACJgQIyCbQ2MTTAgRkT5efwROQOQYQQAABBBBAwM0CBGQ3V5ex2SFAQLZDlTYdI0BAdkyp6CgCCCCAAAIImBAgIJtAYxNPCxCQPV1+Bk9A5hhAAAEEEEAAATcLEJDdXF3GZocAAdkOVdp0jAAB2TGloqMIIIAAAgggYEKAgGwCjU08LUBA9nT5GTwBmWMAAQQQQAABBNwsQEB2c3UZmx0CBGQ7VGnTMQIEZMeUio4igAACCCCAgAkBArIJNDbxtAAB2dPlZ/AEZI4BBBBAAAEEEHCzAAHZzdVlbHYIEJDtUKVNxwgQkB1TKjqKAAIIIIAAAiYECMgm0NjE0wIEZE+Xn8ETkDkGEEAAAQQQQMDNAgRkN1eXsdkhQEC2Q5U2HSNAQHZMqegoAggggAACCJgQICCbQGMTTwsQkD1dfgZPQOYYQAABBBBAAAE3CxCQ3VxdxmaHAAHZDlXadIwAAdkxpaKjCCCAAAIIIGBCgIBsAo1NPC1AQPZ0+Rk8AZljAAEEEEAAAQTcLEBAdnN1GZsdAgRkO1Rp0zECBGTHlIqOIoAAAggggIAJAQKyCTQ28bQAAdnT5WfwBGSOAQQQQAABBBBwswAB2c3VZWx2CBCQ7VClTccIEJAdUyo6igACCCCAAAImBAjIJtDYxNMCBGRPl5/BE5A5BhBAAAEEEEDAzQIEZDdXl7HZIUBAtkOVNh0jQEB2TKnoKAIIIIAAAgiYECAgm0BjE08LEJA9XX4GT0DmGEAAAQQQQAABNwsQkN1cXcZmhwAB2Q5V2nSMAAHZMaWiowgggAACCCBgQoCAbAKNTTwtQED2dPkZPAGZYwABBBBAAAEE3CxAQHZzdRmbHQIEZDtUadMxAgRkx5SKjiKAAAIIIICACQECsgk0NvG0AAHZ0+Vn8ARkjgEEEEAAAQQQcLMAAdnN1WVsdggQkO1QpU3HCBCQHVMqOooAAggggAACJgQIyCbQ2MTTAgRkT5efwROQOQYQQAABBBBAwM0CBGQ3V5ex2SFAQLZDlTYdI0BAdkyp6CgCCCCAAAIImBAgIJtAYxNPCxCQPV1+Bk9A5hhAAAEEEEAAATcLEJDdXF3GZocAAdkOVdp0jAAB2TGloqMIIIAAAgggYEKAgGwCjU08LUBA9nT5GTwBmWMAAQQQQAABBNwsQEB2c3UZmx0CBGQ7VGnTMQIEZMeUio4igAACCCCAgAkBArIJNDbxtAAB2dPlZ/AEZI4BBBBAAAEEEHCzAAHZzdVlbHYIEJDtUKVNxwgQkB1TKjqKAAIIIIAAAiYECMgm0NjE0wIEZE+Xn8ETkDkGEEAAAQQQQMDNAgRkN1eXsdkhQEC2Q5U2HSNAQHZMqegoAggggAACCJgQICCbQGMTTwsQkD1dfgZPQOYYQAABBBBAAAE3CxCQ3VxdxmaHAAHZDlXadIwAAdkxpaKjCCCAAAIIIGBCgIBsAo1NPC1AQPZ0+Rk8AZljAAEEEEAAAQTcLEBAdnN1GZsdAgRkO1Rp0zECBGTHlIqOIoAAAggggIAJAQKyCTQ28bQAAdnT5WfwBGSOAQQQQAABBBBwswAB2c3VZWx2CBCQ7VClTccIEJAdUyo6igACCCCAAAImBAjIJtDYxNMCBGRPl5/BE5A5BhBAAAEEEEDAzQIEZDdXl7HZIUBAtkOVNh0jQEB2TKnoKAIIIIAAAgiYECAgm0BjE08LEJA9XX4GT0DmGEAAAQQQQAABNwsQkN1cXcZmhwAB2Q5V2nSMAAHZMaWiowgggAACCCBgQoCAbAKNTTwtQED2dPkZPAGZYwABBBBAAAEE3CxAQHZzdRmbHQIEZDtUadMxAgRkx5SKjiKAAAIIIICACQECsgk0NvG0AAHZ0+Vn8ARkjgEEEEAAAQQQcLMAAdnN1WVsdggQkO1QpU3HCBCQHVMqOooAAggggAACJgQIyCbQ2MTTAgRkT5efwROQOQYQQAABBBBAwM0CBGQ3V5ex2SFAQLZDlTYdI0BAdkyp6CgCCCCAAAIImBAgIJtAYxNPCxCQPV1+Bk9A5hhAAAEEEEAAATcLEJDdXF3GZocAAdkOVdp0jAAB2TGloqMIIIAAAgggYEKAgGwCjU08LUBA9nT5GTwBmWMAAQQQQAABBNwsQEB2c3UZmx0CBGQ7VGnTMQIEZMeUio4igAACCCCAgAkBArIJNDbxtAAB2dPlZ/AEZI4BBBBAAAEEEHCzAAHZzdVlbHYIEJDtUKVNxwgQkB1TKjqKAAIIIIAAAiYECMgm0NjE0wIEZE+Xn8ETkDkGEEAAAQQQQMDNAgRkN1eXsdkhQEC2Q5U2HSNAQHZMqegoAggggAACCJgQICCbQGMTTwsQkD1dfgZPQOYYQAABBBBAAAE3CxCQ3VxdxmaHAAHZDlXadIwAAdkxpaKjCCCAAAIIIGBCgIBsAo1NPC1AQPZ0+Rk8AZljAAEEEEAAAQTcLEBAdnN1GZsdAgRkO1Rp0zECBGTHlIqOIoAAAggggIAJAQKyCTQ28bQAAdnT5WfwBGSOAQQQQAABBBBwswAB2c3VZWx2CBCQ7VClTccIEJAdUyo6igACCCCAAAImBAjIJtDYxNMCBGRPl5/BE5A5BhBAAAEEEEDAzQIEZDdXl7HZIUBAtkOVNh0jQEB2TKnoKAIIIIAAAgiYECAgm0BjE08LEJA9XX4GT0DmGEAAAQQQQAABNwsQkN1cXcZmhwAB2Q5V2nSMAAHZMaWiowgggAACCCBgQoCAbAKNTTwtQED2dPkZPAGZYwABBBBAAAEE3CxAQHZzdRmbHQIEZDtUadMxAgRkx5SKjiKAAAIIIICACQECsgk0NvG0AAHZ0+Vn8ARkjgEEEEAAAQQQcLMAAdnN1WVsdggQkO1QpU3HCBCQHVMqOooAAggggAACJgQIyCbQ2MTTAgRkT5efwROQOQYQQAABBBBAwM0CBGQ3V5ex2SFAQLZDlTYdI0BAdkyp6CgCCCCAAAIImBAgIJtAYxNPCxCQPV1+Bk9A5hhAAAEEEEAAATcLEJDdXF3GZocAAdkOVdp0jAAB2TGloqMIIIAAAgggYEKAgGwCjU08LUBA9nT5GTwBmWMAAQQQQAABBNwsQEB2c3UZmx0CBGQ7VGnTMQIEZMeUio4igAACCCCAgAkBArIJNDbxtAAB2dPlZ/AEZI4BBBBAAAEEEHCzAAHZzdVlbHYIEJDtUKVNxwgQkB1TKjqKAAIIIIAAAiYECMgm0NjE0wIEZE+Xn8ETkDkGEEAAAQQQQMDNAgRkN1eXsdkhQEC2Q5U2HSNAQHZMqegoAggggAACCJgQICCbQGMTTwsQkD1dfgZPQOYYQAABBBBAAAE3CxCQ3VxdxmaHAAHZDlXadIwAAdkxpaKjCCCAAAIIIGBCgIBsAo1NPC1AQPZ0+Rk8AZljAAEEEEAAAQTcLEBAdnN1GZsdAgRkO1Rp0zECBGTHlIqOIoAAAggggIAJAQKyCTQ28bQAAdnT5WfwBGSOAQQQQAABBBBwswAB2c3VZWx2CBCQ7VClTccIEJAdUyo6igACCCCAAAImBAjIJtDYxNMCBGRPl5/BE5A5BhBAAAEEEEDAzQIEZDdXl7HZIUBAtkOVNh0jQEB2TKnoKAIIIIAAAgiYECAgm0BjE08LEJA9XX4GT0DmGEAAAQQQQAABNwsQkN1cXcZmhwAB2Q5V2nSMAAHZMaWiowgggAACCCBgQoCAbAKNTTwtQED2dPkZPAGZYwABBBBAAAEE3CxAQHZzdRmbHQIEZDtUadMxAgRkx5SKjiKAAAIIIICACQECsgk0NvG0AAHZ0+Vn8ARkjgEEEEAAAQQQcLMAAdnN1WVsdggQkO1QpU3HCBCQHVMqOooAAggggAACJgQIyCbQ2MTTAgRkT5efwROQOQYQQAABBBBAwM0CBGQ3V5ex2SFAQLZDlTYdI0BAdkyp6CgCCCCAAAIImBAgIJtAYxNPCxCQPV1+Bk9A5hhAAAEEEEAAATcLEJDdXF3GZocAAdkOVdp0jAAB2TGloqMIIIAAAgggYEKAgGwCjU08LUBA9nT5GTwBmWMAAQQQQAABBNwsQEB2c3UZmx0CBGQ7VGnTMQIEZMeUio4igAACCCCAgAkBArIJNDbxtAAB2dPlZ/AEZI4BBBBAAAEEEHCzAAHZzdVlbHYIEJDtUKVNxwgQkB1TKjqKAAIIIIAAAiYECMgm0NjE0wIEZE+Xn8ETkDkGEEAAAQQQQMDNAgRkN1eXsdkhQEC2Q5U2HSNAQHZMqegoAggggAACCJgQICCbQGMTTwsQkD1dfgZPQOYYQAABBBBAAAE3CxCQ3VxdxmaHAAHZDlXadIwAAdkxpaKjCCCAAAIIIGBCgIBsAo1NPC1AQPZ0+Rk8AZljAAEEEEAAAQTcLEBAdnN1GZsdAgRkO1Rp0zECBGTHlIqOIoAAAggggIAJAQKyCTQ28bQAAdnT5WfwBGSOAQQQQAABBBBwswAB2c3VZWx2CBCQ7VClTccIEJAdUyo6igACCCCAAAImBAjIJtDYxNMCBGRPl5/BE5A5BhBAAAEEEEDAzQIEZDdXl7HZIUBAtkOVNh0jQEB2TKnoKAKOE7h586YcO3pMDh06KOfPn5eoK1fkivqXLFkyCQkJldDQUMmeI7uEhYVJpsyZHTc+OowAAs4QICA7o070MngECMjBUwt6EgABAnIA0NklAi4VOH36tHy5e7cciIxU/w7IwYMH5Y8//ojXaLNmzaqCciEpFFZYwgqHSbFiz0lIaEi8tmUlBBBA4H4CBOT76fAeAvcKEJDvNeEVDwkQkD1UbIaKgE0Cu3bukrlz5siGDRvkxo0bd+wlW3Z9hriQZMmS1ThjrM8a63Wioq7In3/+qc4wH5UDBw7K77//fsd2GTJkkIaNGknzFs3VWeYcd7zHDwgggEBCBAjICdFiXQRECMgcBZ4WICB7uvwMHgHTApcvX5Zln34qc8PnynfffWe0kzx5cilTtowUKVJEChUKU2eDC8nfMmV64D5u3bolx48dU0H5gETuj1RnoXfJ4cPfGNslTZpUypd/WVq0aiWlSpd+YFusgAACCNwtQEC+W4SfEbi/AAH5/j6863IBArLLC8zwELBBYPGij2XkiBFy8eJFo/XM6v7hJk2bSpNmTeWRRx6xZI979+yVcHVWes3q1XLt2jWjzYIFC8qYse9I/ieftGQfNIIAAt4QICB7o86M0joBArJ1lrTkQAECsgOLRpcRCJCAvsf4rT59ZfOmTUYPij5dVFq1ai2Vq1aRFClS2NKrX8+ckYULFkjEvAjR+9f7eaNrV+nQqaMx2ZctO6VRBBBwlQAB2VXlZDB+ECAg+wGZXQSvAAE5eGtDzxAIJoHlS5fJkMGD5cKFC5IuXToZMmyo1Kpd229d1Jd0jxk9WubNnWfsM6xwYRk3frzkeTyP3/rAjhBAwJkCBGRn1o1eB06AgBw4e/YcBAIE5CAoAl1AIIgFoqKipHfPnrJyxUqjly+8+IKMevttNelWloD0esf27dK7V2859csvkjIkpQwdNsyYzCsgnWGnCCDgCAECsiPKRCeDSICAHETFoCv+FyAg+9+cPSLgFAEdjl/r2Mm4pDpNmjQyYOBAadCoYcC7f+nSJRk1fIQsWrTI6MtwdT900+bNAt4vOoAAAsEpQEAOzrrQq+AVICAHb23omR8ECMh+QGYXCDhQIGY4zpgxo0QsmC9P5MsXVCPRk3gNHTzE6NOIkSPUJGGE5KAqEJ1BIEgECMhBUgi64RgBArJjSkVH7RAgINuhSpsIOFvACeHYJzxn9mwZNmSo8SMh2afCVwQQiClAQI6pwfcIPFiAgPxgI9ZwsQAB2cXFZWgImBC4efOmtG/3qmz6/HPRZ47nzY+QfPnzm2jJf5vEDMlj3nlH6jds4L+dsycEEAh6AQJy0JeIDgaZAAE5yApCd/wrQED2rzd7QyDYBf75/gcyetQoyZAhg3FZdbCHY5+nLySHhITIqjWr5R+5c/ve4isCCHhcgIDs8QOA4SdYgICcYDI2cJMAAdlN1WQsCCRO4OgPR6V6tapyNeqqfDhrljyvZqx20tKnVy9Z/PFiKVK0iCxavJjnJDupePQVARsFCMg24tK0KwUIyK4sK4OKrwABOb5SrIeAuwVu3Lgh9evWk8j9+6Vhw4Yy+p0xjhvwpYsXpUqlynLq1Cnp07ePtO/Y0XFjoMMIIGC9AAHZelNadLcAAdnd9WV0DxAgID8AiLcR8IjAjGnTZdzYsZIte3ZZs26tpE2b1pEj37pli7Ru2UpSpkwpy1aukCeeeMKR46DTCCBgnQAB2TpLWvKGAAHZG3VmlHEIEJDjgOFlBDwkcOL4calcsZJcu3ZNwufNldJlyjh69AP69ZcF8+dLWOHC8umypY4eC51HAIHECxCQE29IC94SICB7q96M9i4BAvJdIPyIgAcFhgwcJHPnzpV69evJO+PGOV7gjz/+kJdfeEHOnPlVFny0UJ4rXtzxY2IACCBgXoCAbN6OLb0pQED2Zt0Z9f8LEJA5FBDwtsDvv/8upYqXEB0q16xf55pLkidPnCRTJk+WqlWryrvTp3m7yIweAY8LEJA9fgAw/AQLEJATTMYGbhIgILupmowFgYQLhM+ZI0MHD5ESJYpLxMKFCW/Agi30pd2rV62SGjVrStKkSS1oUeT06dNStlRpuXXrlmzZvk2yZs1qSbs0ggACzhMgIDuvZvQ4sAIE5MD6s/cACxCQA1wAdo9AAAV0eKzwcnk5fuyYTJsxXSpXqWJLb/73v//JimXLY21bn7nevHmznD93Tj7/YrMkSZIk1vXMvNi1cxdZuXKlvN65s3Tv2cNME2yDAAIuECAgu6CIDMGvAgRkv3Kzs2ATICAHW0XoDwL+E9i2dau0atFSsmXLJl9s22rbc4NHDBsmsz6cdd+BDRw0UFq3aXPfdRL65lf//rc0atBQMmXKJFt3bDdmtk5oG6yPAALOFyAgO7+GjMC/AgRk/3qztyATICAHWUHoDgJ+FBjYv7/Mj5gv3d7sJl26drVlzxcuXJAyJUvJ5cuX42w/derUsmP3LkmTJk2c65h9Q8/OfeT772WemtW6ZKmSZpthOwQQcLAAAdnBxaPrAREgIAeEnZ0GiwABOVgqQT8Q8L9Areo15ODBg7bO9Dx96jQZr2bG7vtWX8mSJfb7gLNkzSLFS5SwBWDooMESHh4uffr2kfYdO9qyDxpFAIHgFiAgB3d96F3wCRCQg68m9MiPAgRkP2KzKwSCSODq1asSVqCgXL9+XfYfPCD6LK7VS1RUlDyvnqmcNWs2Wboi9nuQrd7n3e0tWbxYevXsxWzWd8PwMwIeEiAge6jYDNUSAQKyJYw04lQBArJTK0e/EUicwIHISKlds5bkeTyPrN+4MXGNxbH1wgULpP9b/WTylClSvWaNONay9+Xv1eXVVdRl1jlz5jTus7Z3b7SOAALBKEBADsaq0KdgFiAgB3N16JvtAgRk24nZAQJBKRAxd54MGjhQ6tStK+MmjLe8jzFnyH65fHkp9lwxefrpp6VwkSKSPHlyy/cXV4M3b96UwgULGfdAf7V3j2TIkCGuVXkdAQRcKkBAdmlhGZZtAgRk22hp2AkCBGQnVIk+ImC9QN/eveXjRR/LoCGDpVXr1pbvYMP69dKxfYd72s2RI4e0adtGGjZuLKlSpbrnfTte0DNZ6xmtZ82ZLeWef96OXdAmAggEsQABOYiLQ9eCUoCAHJRloVP+EiAg+0ua/SAQXAItmjaTHTt2yJy54VKmbFnLO+cLpXE1/PDDD8vot9+WSlUqx7WKZa8PUJd5L1CXe48cNVIaN21qWbs0hAACzhAgIDujTvQyeAQIyMFTC3oSAAECcgDQ2SUCQSDQoG492bNnjyz6ZLE888wzlvfo8KHDaobsA3JIzZK9b+8+Y7bs2HbSTz1qqu2r7WJ7y7LXhg8dJrNnzRI7nrVsWSdpCAEEbBMgINtGS8MuFSAgu7SwDCt+Ar6AXK5cOUmaLFn8NmItBBBwvMCer7+WixcvyvKVK6VAwQK2j+foD0dl0UcLZcknS+S3336L3l+SJEmMS5/Lqv8H2bWMHTNGZs6YKblz55a/58pl125oFwEEglRg86ZNRs9mvv+eVKhYMUh7SbcQCB4BAnLw1IKeBEDAF5ADsGt2iQACARTQwVRPpLVqzWrJ/+STfuvJJRXK27VtZ9wT7NtpgQJPyfJVq3w/Wv51gnoO8zT1PGYWBBDwtgAB2dv1Z/TxFyAgx9+KNV0osPnzTXLz1k0XjowhIYDA/QRGjRwlx48dk08+XSJFiha936qWvxd1JUq6vdFF1q/fEN320uXLpFBYWPTPVn4zeuRI+ecH/5T6DRpIpcqVrGyathBAwEECYer/MZkyZ3ZQj+kqAoERICAHxp29IoAAAggEUKBpo8aye/duiVCTV5UoWcLvPblx44ZUeLm8/HjihLHvd8aOlXoN6tvSj8HqcVbz1GOthg4bJs1btrBlHzSKAAIIIICAWwQIyG6pJONAAAEEEIi3QKcOHWT9uvUyafJkqVGrZry3s3LFObNny7AhQ40mu3brKm9062Zl89Ft+cY6ecoUqV6zRvTrfIMAAggggAAC9woQkO814RUEEEAAAZcLTFVhceKEidK2XVvpN2BAQEa75+s90qBePWPfg4cOkZatWtnSjzIlS8mpU6dkw2cbJXeePLbsg0YRQAABBBBwiwAB2S2VZBwIIIAAAvEW+GLzF9KmdWt5tlgx+ejjRfHezsoVv//+e6lS8fY9wYuXLJGiT1t/L/SvZ85I8WLPSdq0aWVv5H7Rk5OxIIAAAggggEDcAgTkuG14BwEEEEDApQL6UUvFnn5GUqVKJfvV84qTJk3q95GuWLZcunXtKsnUI+YiDx2U0NBQy/uw6fPPpV2btlJS3Wc9T91vzYIAAggggAAC9xcgIN/fh3cRQAABBFwqUK50GTl58qSs3eq4NlsAAAhESURBVLBe8ubN6/dR+maXLlykiCxZ+qkt+58yaZJMnjRZXm3fXvr2e8uWfdAoAggggAACbhIgILupmowFAQQQQCDeAp07vSZr1qwRq2eQPnv2rHz91dfy6KM5jWcsx3ZZ888//Sy1atSQK1euyKfLlsoT+fLFu98JWbHtK6/I5k2b5d1pU6VqtWoJ2ZR1EUAAAQQQ8KQAAdmTZWfQCCCAAALzwufK4EGD1OXHJdXlx/MtA+mkztb6nnH8cvnyMn7iBOMeYN8O9H3Br6gJuQ4f/kYmTJootWrX9r1l6dczp89ImVKl5NatW7Jt5w555JFHLG2fxhBAAAEEEHCjAAHZjVVlTAgggAACDxS4dOmSlCpeQi5fvizrNmyQx/M+/sBt4rNC8yZNZefOndGr5sqVS1q0bClZsmaRfXv3yvyI+ZI+fXp5s3t32559rHf+rnqE1aSJk6Ry5coybeaM6P7wDQIIIIAAAgjELUBAjtuGdxBAAAEEXC4wSD3iKWJehDRv0VyGDh9uyWi/OXxYBg0YKHv27LmjvRQpUogOy02bN5PGTZpISEjIHe9b+cO1a9ekbKnSckadrY5Qk3OVUJN0sSCAAAIIIIDAgwUIyA82Yg0EEEAAAZcKHDlyRCpXqGjMZr1j9647LoVO7JB//PFHOXH8hKRIkdwIxtmyZ/fbbNkrV6yQrl3ekLxPPCFr169L7FDYHgEEEEAAAc8IEJA9U2oGigACCCAQm0BzdTZ3585dMmjIYGmlno3shqVh/QZqorCvZPiIEcYZazeMiTEggAACCCDgDwECsj+U2QcCCCCAQNAKrF+3Xjp16CAZM2Y0Hvn0t7/9LWj7Gp+OrVq5Ut7o3EXSpUsr23ftMs6Ox2c71kEAAQQQQAABEQIyRwECCCCAgOcFWjVvIdu2bZNKlSvJ9JkzHeuhZ8iupC4ZP3/+vIwcPcq419mxg6HjCCCAAAIIBECAgBwAdHaJAAIIIBBcAr/88otUrVRZ9MzWEydNkpq1awVXB+PZG98jpso9X05mzZkTz61YDQEEEEAAAQR8AgRknwRfEUAAAQQ8LfDxR4ukb58+6tLkdLJu4wbHPTd46aefSo83uxuXVq9Zv16yZs3q6XoyeAQQQAABBMwIEJDNqLENAggggIArBdq+0kY2b9okZcqUkX/O+lDNQJ3CEeM8cfy41KlVWy5evChjx42VuvXrO6LfdBIBBBBAAIFgEyAgB1tF6A8CCCCAQMAETp8+bVxqfe7cOSlfoYJMnT4t6EOyDsdNGjUW3Xfd5/c+eD9gfuwYAQQQQAABpwsQkJ1eQfqPAAIIIGCpwOFDh6V506Zy4cKFoA/JMcNxyZIl5YMP/yUPPfSQpR40hgACCCCAgJcECMheqjZjRQABBBCIl0DMkFyxYgWZMi34ziTfGY5LqHD8IeE4XtVlJQQQQAABBOIWICDHbcM7CCCAAAIeFjh08JC0aNbMOJOsZ4UeN368/C1TpqAQ+feXXxrPOtaXVZcsSTgOiqLQCQQQQAABVwgQkF1RRgaBAAIIIGCHQMyQnCFDBhk+coRUqVrVjl3Fq80rV67IuHfekdmzZsutW7cIx/FSYyUEEEAAAQTiL0BAjr8VayKAAAIIeFBAPyP5rd59ZNu2bcboq9eoLkOHD5f06dP7VWPf3r3Ss0dPOX7smCRLlkxee/11eb1L56CfRMyvSOwMAQQQQACBRAoQkBMJyOYIIIAAAt4QmD8vQkaPGiWXL1+WzJkzyZs9ekit2rUlNDTUVoBfTp6UD//1L5kze47cvHlT8ubNK+MmjJeChQrZul8aRwABBBBAwIsCBGQvVp0xI4AAAgiYEvjpp5+kT89esnv3bmP7hx9+WBo0bCjNW7aQRx991FSbcW20Y/t2mTtnjmzc+JkRjJMmTSrtO7SXN7p1k5CQkLg243UEEEAAAQQQSIQAATkReGyKAAIIIOA9AX3v78rlK2T27Fmyb+8+AyBJkiTy4ksvSb369SSscGHJnj17gmGuX78uR77/Xr5UE3Dps9U//PCD0UaKFCmkarVq0rZdOylQsECC22UDBBBAAAEEEIi/AAE5/lasiQACCCCAwB0CByIjJXxOuKxcsUKuXr0a/V4mNdu1vgQ6LCxMBeYweeSRLMal2KGhIXJDXSatJ9u68uefcvToUTkQeUAiI/eLfrRUVFRUdBtZsmSRZs2bSeMmTYJm9uzozvENAggggAACLhUgILu0sAwLAQQQQMB/Ar/99pssXrRIdu7YqcJupJw/f97UznPlyiWFwgpJpcqVpWKlSpI8eXJT7bARAggggAACCJgTICCbc2MrBBBAAAEE4hTQ9ypH7t9vnB0+dPCgepbyeflTnTWOuhIl+l5iPbGXvo84R84cUqjQ7bPM+oyzvqeZBQEEEEAAAQQCJ0BADpw9e0YAAQQQQAABBBBAAAEEEAgiAQJyEBWDriCAAAIIIIAAAggggAACCAROgIAcOHv2jAACCCCAAAIIIIAAAgggEEQCBOQgKgZdQQABBBBAAAEEEEAAAQQQCJwAATlw9uwZAQQQQAABBBBAAAEEEEAgiAQIyEFUDLqCAAIIIIAAAggggAACCCAQOAECcuDs2TMCCCCAAAIIIIAAAggggEAQCRCQg6gYdAUBBBBAAAEEEEAAAQQQQCBwAgTkwNmzZwQQQAABBBBAAAEEEEAAgSASICAHUTHoCgIIIIAAAggggAACCCCAQOAECMiBs2fPCCCAAAIIIIAAAggggAACQSRAQA6iYtAVBBBAAAEEEEAAAQQQQACBwAkQkANnz54RQAABBBBAAAEEEEAAAQSCSOD/ACqhtnbQWH0yAAAAAElFTkSuQmCC)"
      ],
      "metadata": {
        "id": "5_b4libP6ZQm"
      }
    },
    {
      "cell_type": "markdown",
      "source": [
        "### Solution"
      ],
      "metadata": {
        "id": "83I_J1iM7o8U"
      }
    },
    {
      "cell_type": "markdown",
      "source": [
        "To find the probability that a budget will pass according to the given decision-making protocol, we need to consider the independent probabilities at each step of the process:\n",
        "\n",
        "1. Person 1 has a 50% chance of saying \"yes.\"\n",
        "2. If person 1 says \"yes,\" then it goes to persons 2, 3, and 5.\n",
        "   - Person 2 has a 70% chance of saying \"yes.\"\n",
        "   - Person 3 has a 70% chance of saying \"yes.\"\n",
        "   - Person 5 has a 50% chance of saying \"yes.\"\n",
        "   - Since the budget can proceed if either person 2 or 3 says \"yes,\" we need to calculate the probability of at least one of them saying \"yes,\" which is \\( 1 - P(\\text{both say \"no\"}) = 1 - (1 - P(\\text{2 says \"yes\"}))(1 - P(\\text{3 says \"yes\"})) \\).\n",
        "3. If either person 4 or 5 says \"yes,\" then it goes to person 6.\n",
        "   - Person 4 has a 70% chance of saying \"yes.\"\n",
        "   - We've already considered person 5 in step 2.\n",
        "   - The probability that either 4 or 5 will say \"yes\" is similar to step 2.\n",
        "4. Person 6 has a 50% chance of saying \"yes.\"\n",
        "\n",
        "Finally, the overall probability that a budget will pass is the product of the probabilities at each step.\n",
        "\n",
        "Let's calculate this probability.\n",
        "\n",
        "The probability that a budget will pass the decision-making process, with each person making an independent decision based on the probabilities given, is approximately 19.34%."
      ],
      "metadata": {
        "id": "PUs_UPZJgd8q"
      }
    },
    {
      "cell_type": "code",
      "source": [
        "# Given probabilities\n",
        "P_1 = 0.5\n",
        "P_2 = 0.7\n",
        "P_3 = 0.7\n",
        "P_4 = 0.7\n",
        "P_5 = 0.5\n",
        "P_6 = 0.5\n",
        "\n",
        "# Probability that at least one of 2 or 3 says \"yes\"\n",
        "P_at_least_one_2_or_3_yes = 1 - (1 - P_2) * (1 - P_3)\n",
        "\n",
        "# Probability that 4 or 5 says \"yes\" given that it has reached this stage\n",
        "# This needs to take into account the probability that 5 has already said \"yes\" to reach this point\n",
        "P_4_or_5_yes_given_reached = 1 - (1 - P_4) * (1 - P_5)\n",
        "\n",
        "# Overall probability that the budget will pass\n",
        "P_budget_passes = P_1 * P_at_least_one_2_or_3_yes * P_4_or_5_yes_given_reached * P_6\n",
        "\n",
        "P_budget_passes\n"
      ],
      "metadata": {
        "id": "ViWMmJYiDLyI",
        "colab": {
          "base_uri": "https://localhost:8080/"
        },
        "outputId": "fe730941-8096-49b0-aa71-2ebc45db4cb1"
      },
      "execution_count": 6,
      "outputs": [
        {
          "output_type": "execute_result",
          "data": {
            "text/plain": [
              "0.193375"
            ]
          },
          "metadata": {},
          "execution_count": 6
        }
      ]
    }
  ]
}